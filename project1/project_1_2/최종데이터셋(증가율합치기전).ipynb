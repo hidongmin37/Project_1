{
 "cells": [
  {
   "cell_type": "code",
   "execution_count": 711,
   "metadata": {},
   "outputs": [],
   "source": [
    "import pandas as pd\n",
    "import warnings\n",
    "warnings.filterwarnings(action='ignore')"
   ]
  },
  {
   "cell_type": "markdown",
   "metadata": {},
   "source": [
    "## 기준열"
   ]
  },
  {
   "cell_type": "code",
   "execution_count": 815,
   "metadata": {
    "scrolled": true
   },
   "outputs": [
    {
     "name": "stdout",
     "output_type": "stream",
     "text": [
      "(228, 1)\n"
     ]
    }
   ],
   "source": [
    "df = pd.read_csv('./dataset/지자체구분.csv', encoding = 'cp949')[['자치단체']]\n",
    "df = df.rename(columns = {'자치단체':'자치단체명'})\n",
    "print(df.shape)"
   ]
  },
  {
   "cell_type": "markdown",
   "metadata": {},
   "source": [
    "## 교부액(2010~2020)"
   ]
  },
  {
   "cell_type": "markdown",
   "metadata": {},
   "source": [
    "1. 11년 충남연기군 -> 세종본청\n",
    "2. 11년,12년 경기여주군 -> 경기여주시\n",
    "3. 11~18년 인천남구 -> 인천 미추홀구\n",
    "4. 11년 충남당진군 -> 충남당진시\n",
    "5. 11년 제주도본청 -> 제주본청 (기준데이터 텍스트와 맞춰주기)\n",
    "6. 11년 강원도본청 -> 강원본청 (기준데이터 텍스트와 맞춰주기)\n",
    "5. 11,12,13년 충북 청주시 값 변경(ex) 11년 청원 + 11년 청주 값으로 )\n",
    "6. 11,12,13년 충북청원군 삭제(청주시와 통합됨)"
   ]
  },
  {
   "cell_type": "code",
   "execution_count": 1061,
   "metadata": {
    "scrolled": false
   },
   "outputs": [],
   "source": [
    "df11 = pd.read_csv('./dataset/데이터처리한것/교부액(2010~2020)/2011_지방보조금비율.csv', encoding = 'cp949')\n",
    "df12 = pd.read_csv('./dataset/데이터처리한것/교부액(2010~2020)/2012_지방보조금비율.csv', encoding = 'cp949')\n",
    "df13 = pd.read_csv('./dataset/데이터처리한것/교부액(2010~2020)/2013_지방보조금비율.csv', encoding = 'cp949')\n",
    "df14 = pd.read_csv('./dataset/데이터처리한것/교부액(2010~2020)/2014_지방보조금비율.csv', encoding = 'cp949')\n",
    "df15 = pd.read_csv('./dataset/데이터처리한것/교부액(2010~2020)/2015_지방보조금비율.csv', encoding = 'cp949')\n",
    "df16 = pd.read_csv('./dataset/데이터처리한것/교부액(2010~2020)/2016_지방보조금비율.csv', encoding = 'cp949')\n",
    "df17 = pd.read_csv('./dataset/데이터처리한것/교부액(2010~2020)/2017_지방보조금비율.csv', encoding = 'cp949')\n",
    "df18 = pd.read_csv('./dataset/데이터처리한것/교부액(2010~2020)/2018_지방보조금비율.csv', encoding = 'cp949')\n",
    "df19 = pd.read_csv('./dataset/데이터처리한것/교부액(2010~2020)/2019_지방보조금비율.csv', encoding = 'cp949')\n",
    "df20 = pd.read_csv('./dataset/데이터처리한것/교부액(2010~2020)/2020_지방보조금비율.csv', encoding = 'cp949')"
   ]
  },
  {
   "cell_type": "code",
   "execution_count": 1062,
   "metadata": {},
   "outputs": [],
   "source": [
    "df11['회계연도'] = 2011\n",
    "df12['회계연도'] = 2012\n",
    "df13['회계연도'] = 2013\n",
    "df14['회계연도'] = 2014\n",
    "df15['회계연도'] = 2015\n",
    "df16['회계연도'] = 2016\n",
    "df17['회계연도'] = 2017\n",
    "df18['회계연도'] = 2018\n",
    "df19['회계연도'] = 2019\n",
    "df20['회계연도'] = 2020"
   ]
  },
  {
   "cell_type": "code",
   "execution_count": 1063,
   "metadata": {},
   "outputs": [],
   "source": [
    "df11 = df11.iloc[:244,:]\n",
    "df12 = df12.iloc[:244,:]\n",
    "df13 = df13.iloc[:244,:]\n",
    "df14 = df14.iloc[:243,:]\n",
    "df15 = df15.iloc[:243,:]\n",
    "df16 = df16.iloc[:243,:]\n",
    "df17 = df17.iloc[:243,:]\n",
    "df18 = df18.iloc[:243,:]\n",
    "df19 = df19.iloc[:243,:]\n",
    "df20 = df20.iloc[:243,:]"
   ]
  },
  {
   "cell_type": "code",
   "execution_count": 1064,
   "metadata": {
    "scrolled": true
   },
   "outputs": [
    {
     "name": "stdout",
     "output_type": "stream",
     "text": [
      "(244, 3)\n",
      "(244, 3)\n",
      "(244, 3)\n",
      "(243, 3)\n",
      "(243, 3)\n",
      "(243, 3)\n",
      "(243, 3)\n",
      "(243, 3)\n",
      "(243, 3)\n",
      "(243, 3)\n"
     ]
    }
   ],
   "source": [
    "print(df11.shape)\n",
    "print(df12.shape)\n",
    "print(df13.shape)\n",
    "print(df14.shape)\n",
    "print(df15.shape)\n",
    "print(df16.shape)\n",
    "print(df17.shape)\n",
    "print(df18.shape)\n",
    "print(df19.shape)\n",
    "print(df20.shape)"
   ]
  },
  {
   "cell_type": "code",
   "execution_count": 1066,
   "metadata": {},
   "outputs": [],
   "source": [
    "# 1. \n",
    "df11.iloc[154,0]  = \"세종본청\""
   ]
  },
  {
   "cell_type": "code",
   "execution_count": 1067,
   "metadata": {},
   "outputs": [],
   "source": [
    "# 2.\n",
    "df11.iloc[109,0] = '경기여주시'\n",
    "df12.iloc[110,0] = '경기여주시'"
   ]
  },
  {
   "cell_type": "code",
   "execution_count": 1068,
   "metadata": {},
   "outputs": [],
   "source": [
    "# 3.\n",
    "df11.iloc[55,0] = \"인천미추홀구\"\n",
    "df12.iloc[55,0] = \"인천미추홀구\"\n",
    "df13.iloc[55,0] = \"인천미추홀구\"\n",
    "df14.iloc[55,0] = \"인천미추홀구\"\n",
    "df15.iloc[55,0] = \"인천미추홀구\"\n",
    "df16.iloc[55,0] = \"인천미추홀구\"\n",
    "df17.iloc[55,0] = \"인천미추홀구\""
   ]
  },
  {
   "cell_type": "code",
   "execution_count": 1069,
   "metadata": {},
   "outputs": [],
   "source": [
    "# 4.\n",
    "df11.iloc[161,0] = \"충남당진시\""
   ]
  },
  {
   "cell_type": "code",
   "execution_count": 1070,
   "metadata": {},
   "outputs": [],
   "source": [
    "# 5. \n",
    "df11.iloc[243,0] = '제주본청'"
   ]
  },
  {
   "cell_type": "code",
   "execution_count": 1073,
   "metadata": {},
   "outputs": [],
   "source": [
    "# 6.\n",
    "df11.iloc[113,0] = '강원본청'"
   ]
  },
  {
   "cell_type": "code",
   "execution_count": 1074,
   "metadata": {
    "scrolled": true
   },
   "outputs": [],
   "source": [
    "# 7.\n",
    "df11.iloc[133,1] = 3.58\n",
    "df12.iloc[134,1] = 2.81\n",
    "df13.iloc[134,1] = 19.951"
   ]
  },
  {
   "cell_type": "code",
   "execution_count": 1075,
   "metadata": {},
   "outputs": [],
   "source": [
    "# 8. \n",
    "df11 =df11[df11['자치단체명']!=\"충북청원군\"]\n",
    "df12 =df12[df12['자치단체명']!=\"충북청원군\"]\n",
    "df13 =df13[df13['자치단체명']!=\"충북청원군\"]"
   ]
  },
  {
   "cell_type": "code",
   "execution_count": 1076,
   "metadata": {},
   "outputs": [],
   "source": [
    "df11 = df11.reset_index(drop = True)\n",
    "df12 = df12.reset_index(drop = True)\n",
    "df13 = df13.reset_index(drop = True)"
   ]
  },
  {
   "cell_type": "code",
   "execution_count": 1077,
   "metadata": {},
   "outputs": [],
   "source": [
    "df_교부액 = pd.concat([df11,df12,df13,df14,df15,df16,df17,df18,df19,df20])"
   ]
  },
  {
   "cell_type": "code",
   "execution_count": 1078,
   "metadata": {},
   "outputs": [],
   "source": [
    "for i in range(11):\n",
    "    if df_교부액['자치단체명'].value_counts()[i] != 10 :\n",
    "        print (i)"
   ]
  },
  {
   "cell_type": "code",
   "execution_count": 1079,
   "metadata": {},
   "outputs": [
    {
     "name": "stdout",
     "output_type": "stream",
     "text": [
      "나와야할 행 수: 2430 실제 데이터 행: (2430, 3)\n"
     ]
    }
   ],
   "source": [
    "df_교부액 = df_교부액[['회계연도','자치단체명','교부액비율']].reset_index(drop = True)\n",
    "print('나와야할 행 수:', 243*10, '실제 데이터 행:',df_교부액.shape)"
   ]
  },
  {
   "cell_type": "markdown",
   "metadata": {},
   "source": [
    "## 사회복지비율(2011~2020)"
   ]
  },
  {
   "cell_type": "markdown",
   "metadata": {},
   "source": [
    "1. 11년 세종본청 추가 (충남연기군도 없었어서 12년 세종본청으로 idx = 81에 새로운 행 추가)\n",
    "2. 11년,12년 경기여주군 -> 경기여주시\n",
    "3. 11~18년 인천남구 -> 인천 미추홀구\n",
    "4. 11년 충남당진군 -> 충남당진시\n",
    "5. 11년도 충북청원군 없음 -> 12년 (청주시+청원군)으로 대체\n",
    "6. 14년도 충북청주시(신) -> 충북청주시\n",
    "\n",
    "7. 12,13년 충북 청주시 값 변경(ex) 11년 청원 + 11년 청주 값으로 )\n",
    "8. 12,13년 충북청원군 삭제(청주시와 통합됨) "
   ]
  },
  {
   "cell_type": "code",
   "execution_count": 1081,
   "metadata": {},
   "outputs": [],
   "source": [
    "df11 = pd.read_csv('./dataset/데이터처리한것/사회복지비율(2011~2020)/2011_사회복지비비율.csv', encoding = 'cp949')\n",
    "df12 = pd.read_csv('./dataset/데이터처리한것/사회복지비율(2011~2020)/2012_사회복지비비율.csv', encoding = 'cp949')\n",
    "df13 = pd.read_csv('./dataset/데이터처리한것/사회복지비율(2011~2020)/2013_사회복지비비율.csv', encoding = 'cp949')\n",
    "df14 = pd.read_csv('./dataset/데이터처리한것/사회복지비율(2011~2020)/2014_사회복지비비율.csv', encoding = 'cp949')\n",
    "df15 = pd.read_csv('./dataset/데이터처리한것/사회복지비율(2011~2020)/2015_사회복지비비율.csv', encoding = 'cp949')\n",
    "df16 = pd.read_csv('./dataset/데이터처리한것/사회복지비율(2011~2020)/2016_사회복지비비율.csv', encoding = 'cp949')\n",
    "df17 = pd.read_csv('./dataset/데이터처리한것/사회복지비율(2011~2020)/2017_사회복지비비율.csv', encoding = 'cp949')\n",
    "df18 = pd.read_csv('./dataset/데이터처리한것/사회복지비율(2011~2020)/2018_사회복지비비율.csv', encoding = 'cp949')\n",
    "df19 = pd.read_csv('./dataset/데이터처리한것/사회복지비율(2011~2020)/2019_사회복지비비율.csv', encoding = 'cp949')\n",
    "df20 = pd.read_csv('./dataset/데이터처리한것/사회복지비율(2011~2020)/2020_사회복지비비율.csv', encoding = 'utf-8')"
   ]
  },
  {
   "cell_type": "code",
   "execution_count": 1082,
   "metadata": {},
   "outputs": [],
   "source": [
    "df11['회계연도'] = 2011\n",
    "df12['회계연도'] = 2012\n",
    "df13['회계연도'] = 2013\n",
    "df14['회계연도'] = 2014\n",
    "df15['회계연도'] = 2015\n",
    "df16['회계연도'] = 2016\n",
    "df17['회계연도'] = 2017\n",
    "df18['회계연도'] = 2018\n",
    "df19['회계연도'] = 2019\n",
    "df20['회계연도'] = 2020"
   ]
  },
  {
   "cell_type": "code",
   "execution_count": 1083,
   "metadata": {},
   "outputs": [],
   "source": [
    "df11 = df11.iloc[:244,:]\n",
    "df12 = df12.iloc[:244,:]\n",
    "df13 = df13.iloc[:244,:]\n",
    "df14 = df14.iloc[:243,:]\n",
    "df15 = df15.iloc[:243,:]\n",
    "df16 = df16.iloc[:243,:]\n",
    "df17 = df17.iloc[:243,:]\n",
    "df18 = df18.iloc[:243,:]\n",
    "df19 = df19.iloc[:243,:]\n",
    "df20 = df20.iloc[:243,:]"
   ]
  },
  {
   "cell_type": "code",
   "execution_count": 1084,
   "metadata": {},
   "outputs": [],
   "source": [
    "1. \n",
    "new_data = {\n",
    "    '자치단체명' : '세종본청',\n",
    "    '사회복지비비율' : 21.42,\n",
    "    '회계연도' : 2011\n",
    "}\n",
    "\n",
    "idx = 81\n",
    "temp1 = df11[df11.index < idx]\n",
    "temp2 = df11[df11.index >= idx]\n",
    "df11 = temp1.append(new_data,ignore_index=True).append(temp2, ignore_index=True)"
   ]
  },
  {
   "cell_type": "code",
   "execution_count": 1085,
   "metadata": {},
   "outputs": [],
   "source": [
    "# 2.\n",
    "df11.iloc[110,0] = '경기여주시'\n",
    "df12.iloc[110,0] = '경기여주시'"
   ]
  },
  {
   "cell_type": "code",
   "execution_count": 1086,
   "metadata": {},
   "outputs": [],
   "source": [
    "# 3.\n",
    "df11.iloc[55,0] = \"인천미추홀구\"\n",
    "df12.iloc[55,0] = \"인천미추홀구\"\n",
    "df13.iloc[55,0] = \"인천미추홀구\"\n",
    "df14.iloc[55,0] = \"인천미추홀구\"\n",
    "df15.iloc[55,0] = \"인천미추홀구\"\n",
    "df16.iloc[55,0] = \"인천미추홀구\"\n",
    "df17.iloc[55,0] = \"인천미추홀구\""
   ]
  },
  {
   "cell_type": "code",
   "execution_count": 1087,
   "metadata": {},
   "outputs": [],
   "source": [
    "# 4. \n",
    "df11.iloc[159,0] = \"충남당진시\""
   ]
  },
  {
   "cell_type": "code",
   "execution_count": 1088,
   "metadata": {},
   "outputs": [],
   "source": [
    "# 5. \n",
    "new_data = {\n",
    "    '자치단체명' : '충북청주시',\n",
    "    '사회복지비비율' : 34.37,\n",
    "    '회계연도' : 2011\n",
    "}\n",
    "\n",
    "idx = 134\n",
    "temp1 = df11[df11.index < idx]\n",
    "temp2 = df11[df11.index >= idx]\n",
    "df11 = temp1.append(new_data,ignore_index=True).append(temp2, ignore_index=True)"
   ]
  },
  {
   "cell_type": "code",
   "execution_count": 1089,
   "metadata": {},
   "outputs": [],
   "source": [
    "# 6.\n",
    "df14.iloc[134,0] = \"충북청주시\""
   ]
  },
  {
   "cell_type": "code",
   "execution_count": 1090,
   "metadata": {},
   "outputs": [],
   "source": [
    "# 7.\n",
    "df12.iloc[134,1] = 34.372\n",
    "df13.iloc[134,1] = 33.150"
   ]
  },
  {
   "cell_type": "code",
   "execution_count": 1091,
   "metadata": {},
   "outputs": [],
   "source": [
    "# 8.\n",
    "df12 =df12[df12['자치단체명']!=\"충북청원군\"]\n",
    "df13 =df13[df13['자치단체명']!=\"충북청원군\"]"
   ]
  },
  {
   "cell_type": "code",
   "execution_count": 1092,
   "metadata": {},
   "outputs": [],
   "source": [
    "df12 = df12.reset_index(drop=True)\n",
    "df13 = df13.reset_index(drop=True)"
   ]
  },
  {
   "cell_type": "code",
   "execution_count": 1093,
   "metadata": {},
   "outputs": [],
   "source": [
    "df11 = df11.dropna()\n",
    "df12 = df12.dropna()\n",
    "df13 = df13.dropna()"
   ]
  },
  {
   "cell_type": "code",
   "execution_count": 1094,
   "metadata": {},
   "outputs": [],
   "source": [
    "df_사회복지비비율 = pd.concat([df11,df12, df13,df14,df15,df16,df17,df18,df19,df20])"
   ]
  },
  {
   "cell_type": "code",
   "execution_count": 1095,
   "metadata": {},
   "outputs": [],
   "source": [
    "for i in range(11):\n",
    "    if df_사회복지비비율['자치단체명'].value_counts()[i] != 10 :\n",
    "        print (i)"
   ]
  },
  {
   "cell_type": "code",
   "execution_count": 1096,
   "metadata": {},
   "outputs": [
    {
     "name": "stdout",
     "output_type": "stream",
     "text": [
      "나와야할 행 수: 2430 실제 데이터 행: (2430, 3)\n"
     ]
    }
   ],
   "source": [
    "df_사회복지비비율 = df_사회복지비비율[['회계연도','자치단체명','사회복지비비율']].reset_index(drop=True)\n",
    "print('나와야할 행 수:', 243*10, '실제 데이터 행:',df_사회복지비비율.shape)"
   ]
  },
  {
   "cell_type": "markdown",
   "metadata": {},
   "source": [
    "## 예산대비채무비율(2009~2020)"
   ]
  },
  {
   "cell_type": "markdown",
   "metadata": {},
   "source": [
    "1. 11년 충남연기군 -> 세종본청 # idx = 81로 추가하고 충남연기군 삭제\n",
    "2. 11년,12년 경기여주군 -> 경기여주시\n",
    "3. 11~18년 인천남구 -> 인천 미추홀구\n",
    "4. 11년 충남당진군 -> 충남당진시\n",
    "5. 11,12,13년 충북 청주시 값 변경(ex) 11년 청원 + 11년 청주 값으로 )(동민)\n",
    "6. 11,12,13년 충북청원군 삭제(청주시와 통합됨) \n"
   ]
  },
  {
   "cell_type": "code",
   "execution_count": 1097,
   "metadata": {},
   "outputs": [],
   "source": [
    "df11 = pd.read_csv('./dataset/데이터처리한것/예산대비채무비율(2009~2020)/2011_예산대비채무비율.csv', encoding = 'cp949')\n",
    "df12 = pd.read_csv('./dataset/데이터처리한것/예산대비채무비율(2009~2020)/2012_예산대비채무비율.csv', encoding = 'cp949')\n",
    "df13 = pd.read_csv('./dataset/데이터처리한것/예산대비채무비율(2009~2020)/2013_예산대비채무비율.csv', encoding = 'cp949')\n",
    "df14 = pd.read_csv('./dataset/데이터처리한것/예산대비채무비율(2009~2020)/2014_예산대비채무비율.csv', encoding = 'cp949')\n",
    "df15 = pd.read_csv('./dataset/데이터처리한것/예산대비채무비율(2009~2020)/2015_예산대비채무비율.csv', encoding = 'cp949')\n",
    "df16 = pd.read_csv('./dataset/데이터처리한것/예산대비채무비율(2009~2020)/2016_예산대비채무비율.csv', encoding = 'cp949')\n",
    "df17 = pd.read_csv('./dataset/데이터처리한것/예산대비채무비율(2009~2020)/2017_예산대비채무비율.csv', encoding = 'cp949')\n",
    "df18 = pd.read_csv('./dataset/데이터처리한것/예산대비채무비율(2009~2020)/2018_예산대비채무비율.csv', encoding = 'cp949')\n",
    "df19 = pd.read_csv('./dataset/데이터처리한것/예산대비채무비율(2009~2020)/2019_예산대비채무비율.csv', encoding = 'cp949')\n",
    "df20 = pd.read_csv('./dataset/데이터처리한것/예산대비채무비율(2009~2020)/2020_예산대비채무비율.csv', encoding = 'cp949')"
   ]
  },
  {
   "cell_type": "code",
   "execution_count": 1098,
   "metadata": {},
   "outputs": [],
   "source": [
    "df11['회계연도'] = 2011\n",
    "df12['회계연도'] = 2012\n",
    "df13['회계연도'] = 2013\n",
    "df14['회계연도'] = 2014\n",
    "df15['회계연도'] = 2015\n",
    "df16['회계연도'] = 2016\n",
    "df17['회계연도'] = 2017\n",
    "df18['회계연도'] = 2018\n",
    "df19['회계연도'] = 2019\n",
    "df20['회계연도'] = 2020"
   ]
  },
  {
   "cell_type": "code",
   "execution_count": 1099,
   "metadata": {},
   "outputs": [],
   "source": [
    "# 1. \n",
    "new_data = {\n",
    "    '자치단체명' : '세종본청',\n",
    "    '예산대비채무 비율' : 24.21,\n",
    "    '회계연도' : 2011\n",
    "}\n",
    "\n",
    "idx = 81\n",
    "temp1 = df11[df11.index < idx]\n",
    "temp2 = df11[df11.index >= idx]\n",
    "df11 = temp1.append(new_data,ignore_index=True).append(temp2, ignore_index=True)\n",
    "\n",
    "df11 = df11.drop(df11[df11['자치단체명'] == \"충남연기군\"].index).reset_index(drop= True)"
   ]
  },
  {
   "cell_type": "code",
   "execution_count": 1100,
   "metadata": {},
   "outputs": [],
   "source": [
    "# 2. \n",
    "df11.iloc[110][0] = \"경기여주시\"\n",
    "df12.iloc[110][0] = \"경기여주시\""
   ]
  },
  {
   "cell_type": "code",
   "execution_count": 1101,
   "metadata": {},
   "outputs": [],
   "source": [
    "# 3.\n",
    "df11.iloc[55,0] = \"인천미추홀구\"\n",
    "df12.iloc[55,0] = \"인천미추홀구\"\n",
    "df13.iloc[55,0] = \"인천미추홀구\"\n",
    "df14.iloc[55,0] = \"인천미추홀구\"\n",
    "df15.iloc[55,0] = \"인천미추홀구\"\n",
    "df16.iloc[55,0] = \"인천미추홀구\"\n",
    "df17.iloc[55,0] = \"인천미추홀구\""
   ]
  },
  {
   "cell_type": "code",
   "execution_count": 1102,
   "metadata": {
    "scrolled": true
   },
   "outputs": [],
   "source": [
    "# 4.\n",
    "df11.iloc[161,0] = \"충남당진시\""
   ]
  },
  {
   "cell_type": "code",
   "execution_count": 1103,
   "metadata": {},
   "outputs": [],
   "source": [
    "# 5.\n",
    "df11.iloc[134,1] = 9.208\n",
    "df12.iloc[134,1] = 8.932\n",
    "df13.iloc[134,1] = 8.368"
   ]
  },
  {
   "cell_type": "code",
   "execution_count": 1104,
   "metadata": {
    "scrolled": true
   },
   "outputs": [],
   "source": [
    "# 6. \n",
    "df11 =df11[df11['자치단체명']!=\"충북청원군\"]\n",
    "df12 =df12[df12['자치단체명']!=\"충북청원군\"]\n",
    "df13 =df13[df13['자치단체명']!=\"충북청원군\"]"
   ]
  },
  {
   "cell_type": "code",
   "execution_count": 1105,
   "metadata": {},
   "outputs": [],
   "source": [
    "df11 = df11.reset_index(drop=True)\n",
    "df12 = df12.reset_index(drop=True)\n",
    "df13 = df13.reset_index(drop=True)"
   ]
  },
  {
   "cell_type": "code",
   "execution_count": 1106,
   "metadata": {},
   "outputs": [],
   "source": [
    "df_예산대비채무비율 = pd.concat([df11,df12,df13,df14,df15,df16,df17,df18,df19,df20])"
   ]
  },
  {
   "cell_type": "code",
   "execution_count": 1107,
   "metadata": {},
   "outputs": [],
   "source": [
    "for i in range(11):\n",
    "    if df_예산대비채무비율['자치단체명'].value_counts()[i] != 10 :\n",
    "        print (i)"
   ]
  },
  {
   "cell_type": "code",
   "execution_count": 1108,
   "metadata": {},
   "outputs": [
    {
     "name": "stdout",
     "output_type": "stream",
     "text": [
      "나와야할 행 수: 2430 실제 데이터 행: (2430, 3)\n"
     ]
    }
   ],
   "source": [
    "df_예산대비채무비율 = df_예산대비채무비율[['회계연도','자치단체명','예산대비채무 비율']].reset_index(drop=True)\n",
    "print('나와야할 행 수:', 243*10, '실제 데이터 행:',df_예산대비채무비율.shape)"
   ]
  },
  {
   "cell_type": "markdown",
   "metadata": {},
   "source": [
    "## 지방세징수액(인구수, 징수액 2008~2020)"
   ]
  },
  {
   "cell_type": "markdown",
   "metadata": {},
   "source": [
    "1. 11년,12년 충남연기군 -> 세종본청\n",
    "2. 11년,12년,13년 경기여주군 -> 경기여주시\n",
    "3. 11~18년 인천남구 -> 인천 미추홀구\n",
    "4. 11년 충남당진군 -> 충남당진시\n",
    "5. 11,12,13,14년 충북 청주시 값 변경(ex) 11년 청원 + 11년 청주 값으로 )\n",
    "6. 11,12,13, 14년 충북청원군 삭제(청주시와 통합됨) "
   ]
  },
  {
   "cell_type": "code",
   "execution_count": 1109,
   "metadata": {},
   "outputs": [],
   "source": [
    "df11 = pd.read_csv('./dataset/데이터처리한것/지방세징수액(인구수,징수액 2008~2020)/2011_주민1인당지방세부담액.csv', encoding = 'utf-8')[['자치단체명','주민1인당 지방세부담액(천원)']]\n",
    "df12 = pd.read_csv('./dataset/데이터처리한것/지방세징수액(인구수,징수액 2008~2020)/2012_주민1인당지방세부담액.csv', encoding = 'utf-8')[['자치단체명','주민1인당 지방세부담액(천원)']]\n",
    "df13 = pd.read_csv('./dataset/데이터처리한것/지방세징수액(인구수,징수액 2008~2020)/2013_주민1인당지방세부담액.csv', encoding = 'utf-8')[['자치단체명','주민1인당 지방세부담액(천원)']]\n",
    "df14 = pd.read_csv('./dataset/데이터처리한것/지방세징수액(인구수,징수액 2008~2020)/2014_주민1인당지방세부담액.csv', encoding = 'utf-8')[['자치단체명','주민1인당 지방세부담액(천원)']]\n",
    "df15 = pd.read_csv('./dataset/데이터처리한것/지방세징수액(인구수,징수액 2008~2020)/2015_주민1인당지방세부담액.csv', encoding = 'utf-8')[['자치단체명','주민1인당 지방세부담액(천원)']]\n",
    "df16 = pd.read_csv('./dataset/데이터처리한것/지방세징수액(인구수,징수액 2008~2020)/2016_주민1인당지방세부담액.csv', encoding = 'utf-8')[['자치단체명','주민1인당 지방세부담액(천원)']]\n",
    "df17 = pd.read_csv('./dataset/데이터처리한것/지방세징수액(인구수,징수액 2008~2020)/2017_주민1인당지방세부담액.csv', encoding = 'utf-8')[['자치단체명','주민1인당 지방세부담액(천원)']]\n",
    "df18 = pd.read_csv('./dataset/데이터처리한것/지방세징수액(인구수,징수액 2008~2020)/2018_주민1인당지방세부담액.csv', encoding = 'utf-8')[['자치단체명','주민1인당 지방세부담액(천원)']]\n",
    "df19 = pd.read_csv('./dataset/데이터처리한것/지방세징수액(인구수,징수액 2008~2020)/2019_주민1인당지방세부담액.csv', encoding = 'utf-8')[['자치단체명','주민1인당 지방세부담액(천원)']]\n",
    "df20 = pd.read_csv('./dataset/데이터처리한것/지방세징수액(인구수,징수액 2008~2020)/2020_주민1인당지방세부담액.csv', encoding = 'utf-8')[['자치단체명','주민1인당 지방세부담액(천원)']]"
   ]
  },
  {
   "cell_type": "code",
   "execution_count": 1110,
   "metadata": {},
   "outputs": [],
   "source": [
    "df11['회계연도'] = 2011\n",
    "df12['회계연도'] = 2012\n",
    "df13['회계연도'] = 2013\n",
    "df14['회계연도'] = 2014\n",
    "df15['회계연도'] = 2015\n",
    "df16['회계연도'] = 2016\n",
    "df17['회계연도'] = 2017\n",
    "df18['회계연도'] = 2018\n",
    "df19['회계연도'] = 2019\n",
    "df20['회계연도'] = 2020"
   ]
  },
  {
   "cell_type": "code",
   "execution_count": 1111,
   "metadata": {},
   "outputs": [
    {
     "name": "stdout",
     "output_type": "stream",
     "text": [
      "(244, 3)\n",
      "(244, 3)\n",
      "(244, 3)\n",
      "(244, 3)\n",
      "(243, 3)\n",
      "(243, 3)\n",
      "(243, 3)\n",
      "(243, 3)\n",
      "(243, 3)\n",
      "(243, 3)\n"
     ]
    }
   ],
   "source": [
    "print(df11.shape)\n",
    "print(df12.shape)\n",
    "print(df13.shape)\n",
    "print(df14.shape)\n",
    "print(df15.shape)\n",
    "print(df16.shape)\n",
    "print(df17.shape)\n",
    "print(df18.shape)\n",
    "print(df19.shape)\n",
    "print(df20.shape)"
   ]
  },
  {
   "cell_type": "code",
   "execution_count": 1112,
   "metadata": {},
   "outputs": [],
   "source": [
    "# 1-1. \n",
    "new_data = {\n",
    "    '자치단체명' : '세종본청',\n",
    "    '주민1인당 지방세부담액(천원)' : 501,\n",
    "    '회계연도' : 2011\n",
    "}\n",
    "\n",
    "idx = 81\n",
    "temp1 = df11[df11.index < idx]\n",
    "temp2 = df11[df11.index >= idx]\n",
    "df11 = temp1.append(new_data,ignore_index=True).append(temp2, ignore_index=True)\n",
    "\n",
    "df11 = df11.drop(df11[df11['자치단체명'] == \"충남연기군\"].index).reset_index(drop= True)"
   ]
  },
  {
   "cell_type": "code",
   "execution_count": 1113,
   "metadata": {},
   "outputs": [],
   "source": [
    "# 1-2. \n",
    "new_data = {\n",
    "    '자치단체명' : '세종본청',\n",
    "    '주민1인당 지방세부담액(천원)' : 572,\n",
    "    '회계연도' : 2012\n",
    "}\n",
    "\n",
    "idx = 81\n",
    "temp1 = df12[df12.index < idx]\n",
    "temp2 = df12[df12.index >= idx]\n",
    "df12 = temp1.append(new_data,ignore_index=True).append(temp2, ignore_index=True)\n",
    "\n",
    "df12 = df12.drop(df12[df12['자치단체명'] == \"충남연기군\"].index).reset_index(drop= True)"
   ]
  },
  {
   "cell_type": "code",
   "execution_count": 1114,
   "metadata": {},
   "outputs": [],
   "source": [
    "# 2.\n",
    "df11.iloc[110,0] = \"경기여주시\"\n",
    "df12.iloc[110,0] = \"경기여주시\"\n",
    "df13.iloc[110,0] = \"경기여주시\""
   ]
  },
  {
   "cell_type": "code",
   "execution_count": 1115,
   "metadata": {},
   "outputs": [],
   "source": [
    "# 3.\n",
    "df11.iloc[55,0] = \"인천미추홀구\"\n",
    "df12.iloc[55,0] = \"인천미추홀구\"\n",
    "df13.iloc[55,0] = \"인천미추홀구\"\n",
    "df14.iloc[55,0] = \"인천미추홀구\"\n",
    "df15.iloc[55,0] = \"인천미추홀구\"\n",
    "df16.iloc[55,0] = \"인천미추홀구\"\n",
    "df17.iloc[55,0] = \"인천미추홀구\""
   ]
  },
  {
   "cell_type": "code",
   "execution_count": 1116,
   "metadata": {},
   "outputs": [],
   "source": [
    "# 4.\n",
    "df11.iloc[161,0] = \"충남당진시\""
   ]
  },
  {
   "cell_type": "code",
   "execution_count": 1117,
   "metadata": {},
   "outputs": [],
   "source": [
    "# 5.\n",
    "df11.iloc[134,1] = 913 \n",
    "df12.iloc[134,1] = 973\n",
    "df13.iloc[134,1] = 1047\n",
    "df14.iloc[134,1] = 1047"
   ]
  },
  {
   "cell_type": "code",
   "execution_count": 1118,
   "metadata": {},
   "outputs": [],
   "source": [
    "# 6. \n",
    "df11 =df11[df11['자치단체명']!=\"충북청원군\"]\n",
    "df12 =df12[df12['자치단체명']!=\"충북청원군\"]\n",
    "df13 =df13[df13['자치단체명']!=\"충북청원군\"]\n",
    "df14 =df14[df14['자치단체명']!=\"충북청원군\"]"
   ]
  },
  {
   "cell_type": "code",
   "execution_count": 1119,
   "metadata": {},
   "outputs": [],
   "source": [
    "df11 = df11.reset_index(drop=True)\n",
    "df12 = df12.reset_index(drop=True)\n",
    "df13 = df13.reset_index(drop=True)\n",
    "df14 = df14.reset_index(drop=True)"
   ]
  },
  {
   "cell_type": "code",
   "execution_count": 1120,
   "metadata": {},
   "outputs": [],
   "source": [
    "df_1인당지방세부담액 = pd.concat([df11,df12,df13,df14,df15,df16,df17,df18,df19,df20])"
   ]
  },
  {
   "cell_type": "code",
   "execution_count": 1121,
   "metadata": {},
   "outputs": [],
   "source": [
    "for i in range(11):\n",
    "    if df_1인당지방세부담액['자치단체명'].value_counts()[i] != 10 :\n",
    "        print (i)"
   ]
  },
  {
   "cell_type": "code",
   "execution_count": 1122,
   "metadata": {},
   "outputs": [
    {
     "name": "stdout",
     "output_type": "stream",
     "text": [
      "나와야할 행 수: 2430 실제 데이터 행: (2430, 3)\n"
     ]
    }
   ],
   "source": [
    "df_1인당지방세부담액 = df_1인당지방세부담액[['회계연도','자치단체명','주민1인당 지방세부담액(천원)']].reset_index(drop=True)\n",
    "print('나와야할 행 수:', 243*10, '실제 데이터 행:',df_1인당지방세부담액.shape)"
   ]
  },
  {
   "cell_type": "markdown",
   "metadata": {},
   "source": [
    "## 통합재정수지적자비율(2009~2020)"
   ]
  },
  {
   "cell_type": "markdown",
   "metadata": {},
   "source": [
    "1. 11년 충남연기군 -> 세종본청\n",
    "2. 11년,12년 경기여주군 -> 경기여주시\n",
    "3. 11~17년 인천남구 -> 인천 미추홀구\n",
    "4. 11년 충남당진군 -> 충남당진시\n",
    "5. 14년 경기여주시 없음(여주군도없음) -> idx = 108에 경기여주시로 생성, 값은 13,15년도 평균\n",
    "6. 14년 충북청주시(신) -> 충북청주시\n",
    "5. 11,12,13 충북 청주시 값 변경(ex) 11년 청원 + 11년 청주 값으로 )\n",
    "6. 11,12,13 충북청원군 삭제(청주시와 통합됨) "
   ]
  },
  {
   "cell_type": "code",
   "execution_count": 1123,
   "metadata": {},
   "outputs": [],
   "source": [
    "df11 = pd.read_csv('./dataset/데이터처리한것/통합재정수지적자비율(2009~2020)/2011_통합재정수지비율.csv', encoding = 'cp949')\n",
    "df12 = pd.read_csv('./dataset/데이터처리한것/통합재정수지적자비율(2009~2020)/2012_통합재정수지비율.csv', encoding = 'cp949')\n",
    "df13 = pd.read_csv('./dataset/데이터처리한것/통합재정수지적자비율(2009~2020)/2013_통합재정수지비율.csv', encoding = 'cp949')\n",
    "df14 = pd.read_csv('./dataset/데이터처리한것/통합재정수지적자비율(2009~2020)/2014_통합재정수지비율.csv', encoding = 'cp949')\n",
    "df15 = pd.read_csv('./dataset/데이터처리한것/통합재정수지적자비율(2009~2020)/2015_통합재정수지비율.csv', encoding = 'cp949')\n",
    "df16 = pd.read_csv('./dataset/데이터처리한것/통합재정수지적자비율(2009~2020)/2016_통합재정수지비율.csv', encoding = 'cp949')\n",
    "df17 = pd.read_csv('./dataset/데이터처리한것/통합재정수지적자비율(2009~2020)/2017_통합재정수지비율.csv', encoding = 'cp949')\n",
    "df18 = pd.read_csv('./dataset/데이터처리한것/통합재정수지적자비율(2009~2020)/2018_통합재정수지비율.csv', encoding = 'cp949')\n",
    "df19 = pd.read_csv('./dataset/데이터처리한것/통합재정수지적자비율(2009~2020)/2019_통합재정수지비율.csv', encoding = 'cp949')\n",
    "df20 = pd.read_csv('./dataset/데이터처리한것/통합재정수지적자비율(2009~2020)/2020_통합재정수지비율.csv', encoding = 'cp949')"
   ]
  },
  {
   "cell_type": "code",
   "execution_count": 1124,
   "metadata": {},
   "outputs": [],
   "source": [
    "df11['회계연도'] = 2011\n",
    "df12['회계연도'] = 2012\n",
    "df13['회계연도'] = 2013\n",
    "df14['회계연도'] = 2014\n",
    "df15['회계연도'] = 2015\n",
    "df16['회계연도'] = 2016\n",
    "df17['회계연도'] = 2017\n",
    "df18['회계연도'] = 2018\n",
    "df19['회계연도'] = 2019\n",
    "df20['회계연도'] = 2020"
   ]
  },
  {
   "cell_type": "code",
   "execution_count": 1125,
   "metadata": {},
   "outputs": [
    {
     "name": "stdout",
     "output_type": "stream",
     "text": [
      "(244, 3)\n",
      "(244, 3)\n",
      "(244, 3)\n",
      "(242, 3)\n",
      "(243, 3)\n",
      "(243, 3)\n",
      "(243, 3)\n",
      "(243, 3)\n",
      "(243, 3)\n",
      "(243, 3)\n"
     ]
    }
   ],
   "source": [
    "print(df11.shape)\n",
    "print(df12.shape)\n",
    "print(df13.shape)\n",
    "print(df14.shape)\n",
    "print(df15.shape)\n",
    "print(df16.shape)\n",
    "print(df17.shape)\n",
    "print(df18.shape)\n",
    "print(df19.shape)\n",
    "print(df20.shape)"
   ]
  },
  {
   "cell_type": "code",
   "execution_count": 1126,
   "metadata": {},
   "outputs": [],
   "source": [
    "# 1.\n",
    "new_data = {\n",
    "    '자치단체명' : '세종본청',\n",
    "    '통합재정수지비율' : -9.22,\n",
    "    '회계연도' : 2011\n",
    "}\n",
    "\n",
    "idx = 81\n",
    "temp1 = df11[df11.index < idx]\n",
    "temp2 = df11[df11.index >= idx]\n",
    "df11 = temp1.append(new_data,ignore_index=True).append(temp2, ignore_index=True)\n",
    "\n",
    "df11 = df11.drop(df11[df11['자치단체명'] == \"충남연기군\"].index).reset_index(drop= True)"
   ]
  },
  {
   "cell_type": "code",
   "execution_count": 1127,
   "metadata": {},
   "outputs": [],
   "source": [
    "# 2.\n",
    "df11.iloc[110,0] = \"경기여주시\"\n",
    "df12.iloc[110,0] = \"경기여주시\""
   ]
  },
  {
   "cell_type": "code",
   "execution_count": 1128,
   "metadata": {},
   "outputs": [],
   "source": [
    "# 3.\n",
    "df11.iloc[55,0] = \"인천미추홀구\"\n",
    "df12.iloc[55,0] = \"인천미추홀구\"\n",
    "df13.iloc[55,0] = \"인천미추홀구\"\n",
    "df14.iloc[55,0] = \"인천미추홀구\"\n",
    "df15.iloc[55,0] = \"인천미추홀구\"\n",
    "df16.iloc[55,0] = \"인천미추홀구\"\n",
    "df17.iloc[55,0] = \"인천미추홀구\""
   ]
  },
  {
   "cell_type": "code",
   "execution_count": 1129,
   "metadata": {},
   "outputs": [],
   "source": [
    "# 4.\n",
    "df11.iloc[161,0] = \"충남당진시\""
   ]
  },
  {
   "cell_type": "code",
   "execution_count": 1130,
   "metadata": {},
   "outputs": [],
   "source": [
    "# 5.\n",
    "new_data = {\n",
    "    '자치단체명' : '경기여주시',\n",
    "    '통합재정수지비율' : -11.35,\n",
    "    '회계연도' : 2014\n",
    "}\n",
    "\n",
    "idx = 108\n",
    "temp1 = df14[df14.index < idx]\n",
    "temp2 = df14[df14.index >= idx]\n",
    "df14 = temp1.append(new_data,ignore_index=True).append(temp2, ignore_index=True)"
   ]
  },
  {
   "cell_type": "code",
   "execution_count": 1131,
   "metadata": {},
   "outputs": [],
   "source": [
    "# 6.\n",
    "df14.iloc[134,0] = \"충북청주시\""
   ]
  },
  {
   "cell_type": "code",
   "execution_count": 1132,
   "metadata": {},
   "outputs": [],
   "source": [
    "# 7.\n",
    "df11.iloc[134,1] = -7.937\n",
    "df12.iloc[134,1] = -9.638\n",
    "df13.iloc[134,1] = -10.275"
   ]
  },
  {
   "cell_type": "code",
   "execution_count": 1133,
   "metadata": {},
   "outputs": [],
   "source": [
    "# 8. \n",
    "df11 =df11[df11['자치단체명']!=\"충북청원군\"]\n",
    "df12 =df12[df12['자치단체명']!=\"충북청원군\"]\n",
    "df13 =df13[df13['자치단체명']!=\"충북청원군\"]"
   ]
  },
  {
   "cell_type": "code",
   "execution_count": 1134,
   "metadata": {},
   "outputs": [],
   "source": [
    "df11 = df11.reset_index(drop=True)\n",
    "df12 = df12.reset_index(drop=True)\n",
    "df13 = df13.reset_index(drop=True)"
   ]
  },
  {
   "cell_type": "code",
   "execution_count": 1135,
   "metadata": {},
   "outputs": [],
   "source": [
    "df_통합재정수지비율 = pd.concat([df11,df12,df13,df14,df15,df16,df17,df18,df19,df20])"
   ]
  },
  {
   "cell_type": "code",
   "execution_count": 1136,
   "metadata": {},
   "outputs": [],
   "source": [
    "for i in range(11):\n",
    "    if df_통합재정수지비율['자치단체명'].value_counts()[i] != 10 :\n",
    "        print (i)"
   ]
  },
  {
   "cell_type": "code",
   "execution_count": 1137,
   "metadata": {
    "scrolled": true
   },
   "outputs": [
    {
     "name": "stdout",
     "output_type": "stream",
     "text": [
      "나와야할 행 수: 2430 실제 데이터 행: (2430, 3)\n"
     ]
    }
   ],
   "source": [
    "df_통합재정수지비율 = df_통합재정수지비율[['회계연도','자치단체명','통합재정수지비율']].reset_index(drop=True)\n",
    "print('나와야할 행 수:', 243*10, '실제 데이터 행:',df_통합재정수지비율.shape)"
   ]
  },
  {
   "cell_type": "markdown",
   "metadata": {},
   "source": [
    "## 고령인구비율"
   ]
  },
  {
   "cell_type": "code",
   "execution_count": 1138,
   "metadata": {},
   "outputs": [],
   "source": [
    "df_고령인구비율 = pd.read_csv('./dataset/데이터처리한것/고령인구비율전처리최종.csv', encoding = 'cp949')[['년도','시','도','고령인구비율','전체인구']]"
   ]
  },
  {
   "cell_type": "code",
   "execution_count": 1139,
   "metadata": {},
   "outputs": [],
   "source": [
    "df_고령인구비율['자치단체명'] = df_고령인구비율['시']+df_고령인구비율['도']\n",
    "df_고령인구비율 = df_고령인구비율[['년도','자치단체명','고령인구비율','전체인구']]\n",
    "df_고령인구비율 = df_고령인구비율.rename(columns = {'년도':'회계연도'})"
   ]
  },
  {
   "cell_type": "markdown",
   "metadata": {},
   "source": [
    "## 총자산증가율"
   ]
  },
  {
   "cell_type": "code",
   "execution_count": 806,
   "metadata": {
    "scrolled": true
   },
   "outputs": [],
   "source": [
    "df_총자산증가율 = pd.read_csv('./dataset/데이터처리한것/총자산증가율.csv', encoding = 'cp949')[['회계연도','자치단체명','총자산증가율']]"
   ]
  },
  {
   "cell_type": "markdown",
   "metadata": {},
   "source": [
    "# 최종데이터셋\n",
    "* 총 shape : (2280,9)\n",
    "* 기준열 : df\n",
    "* df_교부액, df_사회복지비비율, df_예산대비채무비율, df_1인당지방세부담액, df_통합재정수지비율, df_고령인구비율, df_총자산증가율"
   ]
  },
  {
   "cell_type": "code",
   "execution_count": 1140,
   "metadata": {},
   "outputs": [],
   "source": [
    "df_교부액['기준열'] = 0\n",
    "df_사회복지비비율['기준열'] = 0\n",
    "df_예산대비채무비율['기준열'] = 0\n",
    "df_1인당지방세부담액['기준열'] = 0\n",
    "df_통합재정수지비율['기준열'] = 0\n",
    "df_고령인구비율['기준열'] = 0\n",
    "\n",
    "lst_ = [df_교부액, df_사회복지비비율, df_예산대비채무비율, df_1인당지방세부담액, df_통합재정수지비율]\n",
    "\n",
    "for dataframe in lst_:\n",
    "    for i in range(len(dataframe)):\n",
    "        dataframe['기준열'][i] = dataframe.iloc[i]['자치단체명'] + str(dataframe.iloc[i]['회계연도'])   \n",
    "        \n",
    "for i in range(len(df_고령인구비율)):\n",
    "    df_고령인구비율['기준열'][i] = df_고령인구비율.iloc[i]['자치단체명'] + str(df_고령인구비율.iloc[i]['회계연도']) "
   ]
  },
  {
   "cell_type": "code",
   "execution_count": 1143,
   "metadata": {},
   "outputs": [],
   "source": [
    "df_고령인구비율 = df_고령인구비율[['기준열','고령인구비율','전체인구']]"
   ]
  },
  {
   "cell_type": "code",
   "execution_count": 1141,
   "metadata": {},
   "outputs": [],
   "source": [
    "from functools import reduce\n",
    "data = reduce(lambda left, right : pd.merge(left, right, on='기준열', how = 'left'),lst_)\n",
    "data = data[['기준열', '교부액비율','사회복지비비율','예산대비채무 비율','주민1인당 지방세부담액(천원)','통합재정수지비율']]"
   ]
  },
  {
   "cell_type": "code",
   "execution_count": 1146,
   "metadata": {},
   "outputs": [],
   "source": [
    "final_data = pd.merge(data, df_고령인구비율, on='기준열', how = 'inner').reset_index(drop=True)"
   ]
  },
  {
   "cell_type": "code",
   "execution_count": 1151,
   "metadata": {},
   "outputs": [],
   "source": [
    "final_data.to_csv('최종데이터셋_총자산증가율_추가_전.csv', encoding = 'cp949')"
   ]
  },
  {
   "cell_type": "code",
   "execution_count": null,
   "metadata": {},
   "outputs": [],
   "source": []
  }
 ],
 "metadata": {
  "kernelspec": {
   "display_name": "Python 3",
   "language": "python",
   "name": "python3"
  },
  "language_info": {
   "codemirror_mode": {
    "name": "ipython",
    "version": 3
   },
   "file_extension": ".py",
   "mimetype": "text/x-python",
   "name": "python",
   "nbconvert_exporter": "python",
   "pygments_lexer": "ipython3",
   "version": "3.8.5"
  }
 },
 "nbformat": 4,
 "nbformat_minor": 4
}
