{
 "cells": [
  {
   "cell_type": "code",
   "execution_count": 50,
   "metadata": {},
   "outputs": [],
   "source": [
    "from sklearn.datasets import load_breast_cancer\n",
    "from sklearn.svm import SVC\n",
    "from sklearn.model_selection import train_test_split\n",
    "from sklearn.metrics import precision_score, recall_score, f1_score, accuracy_score, roc_curve, roc_auc_score, confusion_matrix, classification_report\n",
    "from sklearn.preprocessing import StandardScaler\n",
    "from sklearn.pipeline import Pipeline\n",
    "\n",
    "import numpy as np\n",
    "import pandas as pd\n",
    "import seaborn as sns\n",
    "import matplotlib.pyplot as plt"
   ]
  },
  {
   "cell_type": "code",
   "execution_count": 51,
   "metadata": {},
   "outputs": [],
   "source": [
    "data = load_breast_cancer()\n",
    "input = pd.DataFrame(data.data, columns = data.feature_names)\n",
    "target = data.target\n",
    "\n",
    "# input = pd.read_csv('', encoding='CP949')\n",
    "# target = pd.read_csv('', encoding='CP949)"
   ]
  },
  {
   "cell_type": "code",
   "execution_count": 5,
   "metadata": {},
   "outputs": [],
   "source": [
    "x_train, x_test, y_train, y_test = train_test_split(input, target, random_state=42, test_size=0.2)"
   ]
  },
  {
   "cell_type": "markdown",
   "metadata": {},
   "source": [
    "## SVC kernel == rbf"
   ]
  },
  {
   "cell_type": "code",
   "execution_count": 80,
   "metadata": {},
   "outputs": [
    {
     "name": "stdout",
     "output_type": "stream",
     "text": [
      "model : SVM, kernel : rbf \n",
      "accuracy : 0.9035087719298246\n",
      "precision_score : 0.9436619718309859\n",
      "roc_score : 0.9027027027027027\n",
      "f1_score : 0.9241379310344827\n"
     ]
    }
   ],
   "source": [
    "svc_rbf = Pipeline([('scaler', StandardScaler()),\n",
    "                    ('svc', SVC(kernel='rbf'))\n",
    "                    ])\n",
    "svc_rbf.fit(x_train, y_train)\n",
    "test_prediction = svc_rbf.predict(x_test)\n",
    "test_accuracy = accuracy_score(test_prediction, y_test)\n",
    "test_precision = precision_score(test_prediction, y_test)\n",
    "roc_auc = roc_auc_score(test_prediction, y_test)\n",
    "f1 = f1_score(test_prediction, y_test)\n",
    "print(f'model : SVM, kernel : rbf \\naccuracy : {test_accuracy}\\nprecision_score : {test_precision}\\nroc_score : {roc_auc}\\nf1_score : {f1}')"
   ]
  },
  {
   "cell_type": "code",
   "execution_count": 70,
   "metadata": {},
   "outputs": [
    {
     "name": "stdout",
     "output_type": "stream",
     "text": [
      "              precision    recall  f1-score   support\n",
      "\n",
      "     class 0       0.90      0.84      0.87        43\n",
      "     class 1       0.91      0.94      0.92        71\n",
      "\n",
      "    accuracy                           0.90       114\n",
      "   macro avg       0.90      0.89      0.90       114\n",
      "weighted avg       0.90      0.90      0.90       114\n",
      "\n"
     ]
    }
   ],
   "source": [
    "print(classification_report(y_test, test_prediction, target_names=['class 0', 'class 1']))"
   ]
  },
  {
   "cell_type": "markdown",
   "metadata": {},
   "source": [
    "## SVC kernel = linear"
   ]
  },
  {
   "cell_type": "code",
   "execution_count": 79,
   "metadata": {},
   "outputs": [
    {
     "name": "stdout",
     "output_type": "stream",
     "text": [
      "model : SVM, kernel : linear \n",
      "accuracy : 0.9035087719298246\n",
      "precision_score : 0.9577464788732394\n",
      "recall_score : 0.8947368421052632\n",
      "roc_score : 0.9078947368421053\n",
      "f1_score : 0.9251700680272109\n"
     ]
    }
   ],
   "source": [
    "svc_lin = Pipeline([('scaler', StandardScaler()),\n",
    "                    ('svc', SVC(kernel='linear'))\n",
    "                    ])\n",
    "svc_lin.fit(x_train, y_train)\n",
    "\n",
    "test_prediction = svc_lin.predict(x_test)\n",
    "test_accuracy = accuracy_score(test_prediction, y_test)\n",
    "test_precision = precision_score(test_prediction, y_test)\n",
    "test_recall = recall_score(test_prediction, y_test)\n",
    "roc_auc = roc_auc_score(test_prediction, y_test)\n",
    "f1 = f1_score(test_prediction, y_test)\n",
    "print(f'model : SVM, kernel : linear \\naccuracy : {test_accuracy}\\nprecision_score : {test_precision}\\nrecall_score : {test_recall}\\nroc_score : {roc_auc}\\nf1_score : {f1}')"
   ]
  },
  {
   "cell_type": "code",
   "execution_count": 72,
   "metadata": {},
   "outputs": [
    {
     "name": "stdout",
     "output_type": "stream",
     "text": [
      "              precision    recall  f1-score   support\n",
      "\n",
      "     class 0       0.92      0.81      0.86        43\n",
      "     class 1       0.89      0.96      0.93        71\n",
      "\n",
      "    accuracy                           0.90       114\n",
      "   macro avg       0.91      0.89      0.89       114\n",
      "weighted avg       0.90      0.90      0.90       114\n",
      "\n"
     ]
    }
   ],
   "source": [
    "print(classification_report(y_test, test_prediction, target_names=['class 0', 'class 1']))"
   ]
  },
  {
   "cell_type": "code",
   "execution_count": null,
   "metadata": {},
   "outputs": [],
   "source": []
  }
 ],
 "metadata": {
  "interpreter": {
   "hash": "dc0be73154618f58c692376fe46a96bfb7aea1860fce4c5a4dc26143c6655afc"
  },
  "kernelspec": {
   "display_name": "Python 3.10.2 64-bit (system)",
   "language": "python",
   "name": "python3"
  },
  "language_info": {
   "codemirror_mode": {
    "name": "ipython",
    "version": 3
   },
   "file_extension": ".py",
   "mimetype": "text/x-python",
   "name": "python",
   "nbconvert_exporter": "python",
   "pygments_lexer": "ipython3",
   "version": "3.10.2"
  },
  "orig_nbformat": 4
 },
 "nbformat": 4,
 "nbformat_minor": 2
}
