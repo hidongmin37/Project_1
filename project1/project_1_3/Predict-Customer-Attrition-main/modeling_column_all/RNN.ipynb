{
 "cells": [
  {
   "cell_type": "code",
   "execution_count": 1,
   "metadata": {},
   "outputs": [],
   "source": [
    "from sklearn.preprocessing import LabelEncoder\n",
    "from sklearn.model_selection import train_test_split\n",
    "from sklearn.preprocessing import StandardScaler\n",
    "from tensorflow import keras\n",
    "from tensorflow.keras.models import Sequential\n",
    "from tensorflow.keras.layers import Dense, Dropout, BatchNormalization, Activation\n",
    "from tensorflow.keras.utils import to_categorical\n",
    "from tensorflow.keras.optimizers import Adam\n",
    "from imblearn.under_sampling import OneSidedSelection, TomekLinks, EditedNearestNeighbours\n",
    "\n",
    "import random\n",
    "import numpy as np\n",
    "import pandas as pd\n",
    "import matplotlib.pyplot as plt\n",
    "import seaborn as sns"
   ]
  },
  {
   "cell_type": "code",
   "execution_count": 2,
   "metadata": {},
   "outputs": [],
   "source": [
    "data = pd.read_csv('../datasets/BankChurners_change.csv', encoding='CP949')\n",
    "data = data.iloc[:,2:23]\n",
    "np.random.seed(42)\n",
    "random.seed(42)"
   ]
  },
  {
   "cell_type": "code",
   "execution_count": 3,
   "metadata": {},
   "outputs": [],
   "source": [
    "import tensorflow as tf\n",
    "\n",
    "def metric_precision(y_true,y_pred): \n",
    " TP=tf.reduce_sum(y_true*tf.round(y_pred))\n",
    " TN=tf.reduce_sum((1-y_true)*(1-tf.round(y_pred)))\n",
    " FP=tf.reduce_sum((1-y_true)*tf.round(y_pred))\n",
    " FN=tf.reduce_sum(y_true*(1-tf.round(y_pred)))\n",
    " precision=TP/(TP+FP)\n",
    " return precision\n",
    "\n",
    "def metric_recall(y_true,y_pred): \n",
    " TP=tf.reduce_sum(y_true*tf.round(y_pred))\n",
    " TN=tf.reduce_sum((1-y_true)*(1-tf.round(y_pred)))\n",
    " FP=tf.reduce_sum((1-y_true)*tf.round(y_pred))\n",
    " FN=tf.reduce_sum(y_true*(1-tf.round(y_pred)))\n",
    " recall=TP/(TP+FN)\n",
    " return recall\n",
    "\n",
    "#F1-score    \n",
    "def metric_F1score(y_true,y_pred): \n",
    " TP=tf.reduce_sum(y_true*tf.round(y_pred))\n",
    " TN=tf.reduce_sum((1-y_true)*(1-tf.round(y_pred)))\n",
    " FP=tf.reduce_sum((1-y_true)*tf.round(y_pred))\n",
    " FN=tf.reduce_sum(y_true*(1-tf.round(y_pred)))\n",
    " precision=TP/(TP+FP)\n",
    " recall=TP/(TP+FN)\n",
    " F1score=2*precision*recall/(precision+recall)\n",
    " return F1score"
   ]
  },
  {
   "cell_type": "code",
   "execution_count": 4,
   "metadata": {},
   "outputs": [
    {
     "name": "stdout",
     "output_type": "stream",
     "text": [
      "category : [0 1]\n",
      "classes : ['Attrited Customer' 'Existing Customer']\n",
      "\n",
      "category : [0 1]\n",
      "classes : ['F' 'M']\n",
      "\n",
      "category : [0 1 2 3 4 5 6]\n",
      "classes : ['College' 'Doctorate' 'Graduate' 'High School' 'Post-Graduate'\n",
      " 'Uneducated' 'Unknown']\n",
      "\n",
      "category : [0 1 2 3]\n",
      "classes : ['Divorced' 'Married' 'Single' 'Unknown']\n",
      "\n",
      "category : [0 1 2 3 4 5]\n",
      "classes : ['$120K +' '$40K - $60K' '$60K - $80K' '$80K - $120K' 'Less than $40K'\n",
      " 'Unknown']\n",
      "\n",
      "category : [0 1 2 3]\n",
      "classes : ['Blue' 'Gold' 'Platinum' 'Silver']\n",
      "\n",
      "category : [0 1 2 3 4]\n",
      "classes : ['20대' '30대' '40대' '50대' '60대 이상']\n",
      "\n"
     ]
    }
   ],
   "source": [
    "object_columns = data.select_dtypes('object').columns\n",
    "\n",
    "for i in object_columns:\n",
    "\n",
    "    lb = LabelEncoder()\n",
    "    lb.fit(data[i])\n",
    "    data[i] = lb.transform(data[i])\n",
    "    \n",
    "    print(f'category : {np.unique(data[i])}\\nclasses : {lb.classes_}\\n')\n",
    "\n",
    "input = data.iloc[:,1:]\n",
    "target = data.iloc[:,0]"
   ]
  },
  {
   "cell_type": "markdown",
   "metadata": {},
   "source": [
    "## onesideselection"
   ]
  },
  {
   "cell_type": "code",
   "execution_count": 5,
   "metadata": {},
   "outputs": [],
   "source": [
    "x_train, x_test, y_train, y_test = train_test_split(input, target, random_state=42, test_size=0.2)\n",
    "\n",
    "ss = StandardScaler()\n",
    "x_train = ss.fit_transform(x_train)\n",
    "x_test = ss.fit_transform(x_test)\n",
    "\n",
    "oss = OneSidedSelection(random_state=42)\n",
    "x_train, y_train = oss.fit_resample(x_train, y_train)"
   ]
  },
  {
   "cell_type": "code",
   "execution_count": 9,
   "metadata": {},
   "outputs": [
    {
     "name": "stdout",
     "output_type": "stream",
     "text": [
      "Model: \"sequential_2\"\n",
      "_________________________________________________________________\n",
      " Layer (type)                Output Shape              Param #   \n",
      "=================================================================\n",
      " batch_normalization_6 (Batc  (None, 20)               80        \n",
      " hNormalization)                                                 \n",
      "                                                                 \n",
      " dense_8 (Dense)             (None, 128)               2688      \n",
      "                                                                 \n",
      " batch_normalization_7 (Batc  (None, 128)              512       \n",
      " hNormalization)                                                 \n",
      "                                                                 \n",
      " dense_9 (Dense)             (None, 64)                8256      \n",
      "                                                                 \n",
      " dropout_2 (Dropout)         (None, 64)                0         \n",
      "                                                                 \n",
      " batch_normalization_8 (Batc  (None, 64)               256       \n",
      " hNormalization)                                                 \n",
      "                                                                 \n",
      " dense_10 (Dense)            (None, 32)                2080      \n",
      "                                                                 \n",
      " dense_11 (Dense)            (None, 1)                 33        \n",
      "                                                                 \n",
      "=================================================================\n",
      "Total params: 13,905\n",
      "Trainable params: 13,481\n",
      "Non-trainable params: 424\n",
      "_________________________________________________________________\n"
     ]
    }
   ],
   "source": [
    "model = Sequential()\n",
    "\n",
    "model.add(keras.Input(shape=(20,)))\n",
    "\n",
    "model.add(BatchNormalization())\n",
    "model.add(Dense(128, activation='relu'))\n",
    "\n",
    "model.add(BatchNormalization())\n",
    "model.add(Dense(64, activation='relu'))\n",
    "model.add(Dropout(0.5))\n",
    "\n",
    "model.add(BatchNormalization())\n",
    "model.add(Dense(32, activation='relu'))\n",
    "\n",
    "model.add(Dense(1, activation='sigmoid'))\n",
    "\n",
    "model.compile(optimizer='adam',\n",
    "\t loss='binary_crossentropy',\n",
    "\t metrics=['accuracy',\n",
    "\t \t\tmetric_precision,\n",
    "\t \t\tmetric_recall,\n",
    "\t \t\tmetric_F1score,\n",
    "\t\t\t ])\n",
    "            \n",
    "model.summary()"
   ]
  },
  {
   "cell_type": "code",
   "execution_count": 10,
   "metadata": {},
   "outputs": [
    {
     "name": "stdout",
     "output_type": "stream",
     "text": [
      "\n",
      "Epoch 1: val_loss improved from inf to 0.26356, saving model to ./model\\01-0.263557.hdf5\n",
      "\n",
      "Epoch 2: val_loss improved from 0.26356 to 0.22266, saving model to ./model\\02-0.222662.hdf5\n",
      "\n",
      "Epoch 3: val_loss improved from 0.22266 to 0.19952, saving model to ./model\\03-0.199520.hdf5\n",
      "\n",
      "Epoch 4: val_loss improved from 0.19952 to 0.17497, saving model to ./model\\04-0.174967.hdf5\n",
      "\n",
      "Epoch 5: val_loss improved from 0.17497 to 0.17052, saving model to ./model\\05-0.170519.hdf5\n",
      "\n",
      "Epoch 6: val_loss did not improve from 0.17052\n",
      "\n",
      "Epoch 7: val_loss improved from 0.17052 to 0.16667, saving model to ./model\\07-0.166668.hdf5\n",
      "\n",
      "Epoch 8: val_loss improved from 0.16667 to 0.16457, saving model to ./model\\08-0.164574.hdf5\n",
      "\n",
      "Epoch 9: val_loss did not improve from 0.16457\n",
      "\n",
      "Epoch 10: val_loss improved from 0.16457 to 0.16416, saving model to ./model\\10-0.164160.hdf5\n",
      "\n",
      "Epoch 11: val_loss improved from 0.16416 to 0.15966, saving model to ./model\\11-0.159664.hdf5\n",
      "\n",
      "Epoch 12: val_loss did not improve from 0.15966\n",
      "\n",
      "Epoch 13: val_loss improved from 0.15966 to 0.15234, saving model to ./model\\13-0.152336.hdf5\n",
      "\n",
      "Epoch 14: val_loss improved from 0.15234 to 0.15022, saving model to ./model\\14-0.150221.hdf5\n",
      "\n",
      "Epoch 15: val_loss did not improve from 0.15022\n",
      "\n",
      "Epoch 16: val_loss did not improve from 0.15022\n",
      "\n",
      "Epoch 17: val_loss improved from 0.15022 to 0.14736, saving model to ./model\\17-0.147359.hdf5\n",
      "\n",
      "Epoch 18: val_loss improved from 0.14736 to 0.14445, saving model to ./model\\18-0.144455.hdf5\n",
      "\n",
      "Epoch 19: val_loss improved from 0.14445 to 0.14148, saving model to ./model\\19-0.141481.hdf5\n",
      "\n",
      "Epoch 20: val_loss did not improve from 0.14148\n",
      "\n",
      "Epoch 21: val_loss did not improve from 0.14148\n",
      "\n",
      "Epoch 22: val_loss did not improve from 0.14148\n",
      "\n",
      "Epoch 23: val_loss improved from 0.14148 to 0.13726, saving model to ./model\\23-0.137264.hdf5\n",
      "\n",
      "Epoch 24: val_loss improved from 0.13726 to 0.13515, saving model to ./model\\24-0.135154.hdf5\n",
      "\n",
      "Epoch 25: val_loss did not improve from 0.13515\n",
      "\n",
      "Epoch 26: val_loss did not improve from 0.13515\n",
      "\n",
      "Epoch 27: val_loss did not improve from 0.13515\n",
      "\n",
      "Epoch 28: val_loss improved from 0.13515 to 0.13427, saving model to ./model\\28-0.134273.hdf5\n",
      "\n",
      "Epoch 29: val_loss did not improve from 0.13427\n",
      "\n",
      "Epoch 30: val_loss did not improve from 0.13427\n",
      "\n",
      "Epoch 31: val_loss improved from 0.13427 to 0.13182, saving model to ./model\\31-0.131815.hdf5\n",
      "\n",
      "Epoch 32: val_loss improved from 0.13182 to 0.12811, saving model to ./model\\32-0.128113.hdf5\n",
      "\n",
      "Epoch 33: val_loss did not improve from 0.12811\n",
      "\n",
      "Epoch 34: val_loss improved from 0.12811 to 0.12494, saving model to ./model\\34-0.124938.hdf5\n",
      "\n",
      "Epoch 35: val_loss did not improve from 0.12494\n",
      "\n",
      "Epoch 36: val_loss did not improve from 0.12494\n",
      "\n",
      "Epoch 37: val_loss did not improve from 0.12494\n",
      "\n",
      "Epoch 38: val_loss improved from 0.12494 to 0.11991, saving model to ./model\\38-0.119911.hdf5\n",
      "\n",
      "Epoch 39: val_loss improved from 0.11991 to 0.11595, saving model to ./model\\39-0.115950.hdf5\n",
      "\n",
      "Epoch 40: val_loss did not improve from 0.11595\n",
      "\n",
      "Epoch 41: val_loss did not improve from 0.11595\n",
      "\n",
      "Epoch 42: val_loss did not improve from 0.11595\n",
      "\n",
      "Epoch 43: val_loss did not improve from 0.11595\n",
      "\n",
      "Epoch 44: val_loss did not improve from 0.11595\n",
      "\n",
      "Epoch 45: val_loss improved from 0.11595 to 0.11392, saving model to ./model\\45-0.113921.hdf5\n",
      "\n",
      "Epoch 46: val_loss did not improve from 0.11392\n",
      "\n",
      "Epoch 47: val_loss did not improve from 0.11392\n",
      "\n",
      "Epoch 48: val_loss did not improve from 0.11392\n",
      "\n",
      "Epoch 49: val_loss did not improve from 0.11392\n",
      "\n",
      "Epoch 50: val_loss did not improve from 0.11392\n",
      "\n",
      "Epoch 51: val_loss did not improve from 0.11392\n",
      "\n",
      "Epoch 52: val_loss did not improve from 0.11392\n",
      "\n",
      "Epoch 53: val_loss did not improve from 0.11392\n",
      "\n",
      "Epoch 54: val_loss did not improve from 0.11392\n",
      "\n",
      "Epoch 55: val_loss did not improve from 0.11392\n",
      "64/64 [==============================] - 0s 667us/step - loss: 0.1174 - accuracy: 0.9531 - metric_precision: 0.9696 - metric_recall: 0.9761 - metric_F1score: 0.9723\n",
      "\n",
      " Test F1 Score : 0.9723\n"
     ]
    }
   ],
   "source": [
    "import os\n",
    "from keras.callbacks import ModelCheckpoint, EarlyStopping\n",
    "\n",
    "MODEL_DIR = './model/'\n",
    "if not os.path.exists(MODEL_DIR):\n",
    "    os.mkdir(MODEL_DIR)\n",
    "\n",
    "modelpath = './model/{epoch:02d}-{val_loss:4f}.hdf5'\n",
    "checkpointer = ModelCheckpoint(filepath=modelpath, monitor='val_loss', verbose=1, save_best_only=True)\n",
    "early_stopping_callback = EarlyStopping(monitor='val_loss', patience=10)\n",
    "\n",
    "history = model.fit(x_train, y_train, validation_data=(x_test, y_test), epochs=100,\n",
    "batch_size=32, verbose=0, callbacks=[early_stopping_callback, checkpointer])\n",
    "\n",
    "print('\\n Test F1 Score : %.4f' % (model.evaluate(x_test, y_test)[4]))"
   ]
  },
  {
   "cell_type": "code",
   "execution_count": 11,
   "metadata": {},
   "outputs": [
    {
     "data": {
      "text/plain": [
       "array([[0.99840975],\n",
       "       [0.9999931 ],\n",
       "       [0.99024904],\n",
       "       ...,\n",
       "       [0.9973162 ],\n",
       "       [0.96631575],\n",
       "       [0.9937885 ]], dtype=float32)"
      ]
     },
     "execution_count": 11,
     "metadata": {},
     "output_type": "execute_result"
    }
   ],
   "source": [
    "pred = model.predict(x_test)\n",
    "pred"
   ]
  },
  {
   "cell_type": "code",
   "execution_count": 12,
   "metadata": {},
   "outputs": [
    {
     "data": {
      "image/png": "[encoded data removed]",
      "text/plain": [
       "<Figure size 432x288 with 1 Axes>"
      ]
     },
     "metadata": {
      "needs_background": "light"
     },
     "output_type": "display_data"
    }
   ],
   "source": [
    "# 테스트 셋의 오차\n",
    "y_vloss = history.history['val_loss']\n",
    "\n",
    "# 학습셋의 오차\n",
    "y_loss = history.history[\"loss\"]\n",
    "\n",
    "# 그래프로 표현\n",
    "x_len = np.arange(len(y_loss))\n",
    "plt.plot(x_len, y_vloss, marker=\".\", c=\"red\", label=\"Testset_loss\")\n",
    "plt.plot(x_len, y_loss, marker=\".\", c=\"blue\", label=\"Trainset_loss\")\n",
    "\n",
    "# 그래프에 그리드를 주고 레이블을 표시\n",
    "plt.legend()\n",
    "plt.grid()\n",
    "plt.xlabel(\"epoch\")\n",
    "plt.ylabel(\"loss\")\n",
    "plt.show()"
   ]
  },
  {
   "cell_type": "markdown",
   "metadata": {},
   "source": [
    "------------"
   ]
  },
  {
   "cell_type": "markdown",
   "metadata": {},
   "source": [
    "---------------------"
   ]
  },
  {
   "cell_type": "markdown",
   "metadata": {},
   "source": [
    "## sampling X"
   ]
  },
  {
   "cell_type": "code",
   "execution_count": 13,
   "metadata": {},
   "outputs": [
    {
     "name": "stdout",
     "output_type": "stream",
     "text": [
      "(8101, 20) (2026, 20) (8101,) (2026,)\n"
     ]
    }
   ],
   "source": [
    "x_train, x_test, y_train, y_test = train_test_split(input, target, random_state=42, test_size=0.2)\n",
    "\n",
    "ss = StandardScaler()\n",
    "x_train = ss.fit_transform(x_train)\n",
    "x_test = ss.fit_transform(x_test)\n",
    "\n",
    "print(x_train.shape, x_test.shape, y_train.shape, y_test.shape)"
   ]
  },
  {
   "cell_type": "code",
   "execution_count": 15,
   "metadata": {},
   "outputs": [
    {
     "name": "stdout",
     "output_type": "stream",
     "text": [
      "Model: \"sequential_4\"\n",
      "_________________________________________________________________\n",
      " Layer (type)                Output Shape              Param #   \n",
      "=================================================================\n",
      " batch_normalization_12 (Bat  (None, 20)               80        \n",
      " chNormalization)                                                \n",
      "                                                                 \n",
      " dense_16 (Dense)            (None, 128)               2688      \n",
      "                                                                 \n",
      " batch_normalization_13 (Bat  (None, 128)              512       \n",
      " chNormalization)                                                \n",
      "                                                                 \n",
      " dense_17 (Dense)            (None, 64)                8256      \n",
      "                                                                 \n",
      " dropout_4 (Dropout)         (None, 64)                0         \n",
      "                                                                 \n",
      " batch_normalization_14 (Bat  (None, 64)               256       \n",
      " chNormalization)                                                \n",
      "                                                                 \n",
      " dense_18 (Dense)            (None, 32)                2080      \n",
      "                                                                 \n",
      " dense_19 (Dense)            (None, 1)                 33        \n",
      "                                                                 \n",
      "=================================================================\n",
      "Total params: 13,905\n",
      "Trainable params: 13,481\n",
      "Non-trainable params: 424\n",
      "_________________________________________________________________\n"
     ]
    }
   ],
   "source": [
    "model = Sequential()\n",
    "\n",
    "model.add(keras.Input(shape=(20,)))\n",
    "\n",
    "model.add(BatchNormalization())\n",
    "model.add(Dense(128, activation='relu'))\n",
    "\n",
    "model.add(BatchNormalization())\n",
    "model.add(Dense(64, activation='relu'))\n",
    "model.add(Dropout(0.5))\n",
    "\n",
    "model.add(BatchNormalization())\n",
    "model.add(Dense(32, activation='relu'))\n",
    "\n",
    "model.add(Dense(1, activation='sigmoid'))\n",
    "\n",
    "model.compile(optimizer='adam',\n",
    "\t loss='binary_crossentropy',\n",
    "\t metrics=['accuracy',\n",
    "\t \t\tmetric_precision,\n",
    "\t \t\tmetric_recall,\n",
    "\t \t\tmetric_F1score,\n",
    "\t\t\t ])\n",
    "            \n",
    "model.summary()"
   ]
  },
  {
   "cell_type": "code",
   "execution_count": 16,
   "metadata": {},
   "outputs": [
    {
     "name": "stdout",
     "output_type": "stream",
     "text": [
      "\n",
      "Epoch 1: val_loss improved from inf to 0.25288, saving model to ./model\\01-0.252878.hdf5\n",
      "\n",
      "Epoch 2: val_loss improved from 0.25288 to 0.21087, saving model to ./model\\02-0.210867.hdf5\n",
      "\n",
      "Epoch 3: val_loss improved from 0.21087 to 0.19707, saving model to ./model\\03-0.197067.hdf5\n",
      "\n",
      "Epoch 4: val_loss improved from 0.19707 to 0.18989, saving model to ./model\\04-0.189893.hdf5\n",
      "\n",
      "Epoch 5: val_loss improved from 0.18989 to 0.18386, saving model to ./model\\05-0.183864.hdf5\n",
      "\n",
      "Epoch 6: val_loss improved from 0.18386 to 0.17128, saving model to ./model\\06-0.171278.hdf5\n",
      "\n",
      "Epoch 7: val_loss improved from 0.17128 to 0.17116, saving model to ./model\\07-0.171157.hdf5\n",
      "\n",
      "Epoch 8: val_loss improved from 0.17116 to 0.16577, saving model to ./model\\08-0.165771.hdf5\n",
      "\n",
      "Epoch 9: val_loss improved from 0.16577 to 0.15949, saving model to ./model\\09-0.159485.hdf5\n",
      "\n",
      "Epoch 10: val_loss did not improve from 0.15949\n",
      "\n",
      "Epoch 11: val_loss improved from 0.15949 to 0.15643, saving model to ./model\\11-0.156426.hdf5\n",
      "\n",
      "Epoch 12: val_loss improved from 0.15643 to 0.15027, saving model to ./model\\12-0.150269.hdf5\n",
      "\n",
      "Epoch 13: val_loss did not improve from 0.15027\n",
      "\n",
      "Epoch 14: val_loss did not improve from 0.15027\n",
      "\n",
      "Epoch 15: val_loss improved from 0.15027 to 0.14755, saving model to ./model\\15-0.147547.hdf5\n",
      "\n",
      "Epoch 16: val_loss did not improve from 0.14755\n",
      "\n",
      "Epoch 17: val_loss improved from 0.14755 to 0.14418, saving model to ./model\\17-0.144183.hdf5\n",
      "\n",
      "Epoch 18: val_loss did not improve from 0.14418\n",
      "\n",
      "Epoch 19: val_loss improved from 0.14418 to 0.14265, saving model to ./model\\19-0.142653.hdf5\n",
      "\n",
      "Epoch 20: val_loss improved from 0.14265 to 0.13857, saving model to ./model\\20-0.138568.hdf5\n",
      "\n",
      "Epoch 21: val_loss improved from 0.13857 to 0.13654, saving model to ./model\\21-0.136538.hdf5\n",
      "\n",
      "Epoch 22: val_loss did not improve from 0.13654\n",
      "\n",
      "Epoch 23: val_loss improved from 0.13654 to 0.13034, saving model to ./model\\23-0.130340.hdf5\n",
      "\n",
      "Epoch 24: val_loss did not improve from 0.13034\n",
      "\n",
      "Epoch 25: val_loss improved from 0.13034 to 0.12952, saving model to ./model\\25-0.129517.hdf5\n",
      "\n",
      "Epoch 26: val_loss did not improve from 0.12952\n",
      "\n",
      "Epoch 27: val_loss improved from 0.12952 to 0.12867, saving model to ./model\\27-0.128675.hdf5\n",
      "\n",
      "Epoch 28: val_loss improved from 0.12867 to 0.12793, saving model to ./model\\28-0.127932.hdf5\n",
      "\n",
      "Epoch 29: val_loss improved from 0.12793 to 0.12662, saving model to ./model\\29-0.126619.hdf5\n",
      "\n",
      "Epoch 30: val_loss did not improve from 0.12662\n",
      "\n",
      "Epoch 31: val_loss improved from 0.12662 to 0.12299, saving model to ./model\\31-0.122988.hdf5\n",
      "\n",
      "Epoch 32: val_loss improved from 0.12299 to 0.12273, saving model to ./model\\32-0.122727.hdf5\n",
      "\n",
      "Epoch 33: val_loss improved from 0.12273 to 0.11973, saving model to ./model\\33-0.119731.hdf5\n",
      "\n",
      "Epoch 34: val_loss did not improve from 0.11973\n",
      "\n",
      "Epoch 35: val_loss did not improve from 0.11973\n",
      "\n",
      "Epoch 36: val_loss improved from 0.11973 to 0.11575, saving model to ./model\\36-0.115746.hdf5\n",
      "\n",
      "Epoch 37: val_loss did not improve from 0.11575\n",
      "\n",
      "Epoch 38: val_loss did not improve from 0.11575\n",
      "\n",
      "Epoch 39: val_loss did not improve from 0.11575\n",
      "\n",
      "Epoch 40: val_loss did not improve from 0.11575\n",
      "\n",
      "Epoch 41: val_loss did not improve from 0.11575\n",
      "\n",
      "Epoch 42: val_loss did not improve from 0.11575\n",
      "\n",
      "Epoch 43: val_loss did not improve from 0.11575\n",
      "\n",
      "Epoch 44: val_loss did not improve from 0.11575\n",
      "\n",
      "Epoch 45: val_loss did not improve from 0.11575\n",
      "\n",
      "Epoch 46: val_loss did not improve from 0.11575\n",
      "64/64 [==============================] - 0s 730us/step - loss: 0.1186 - accuracy: 0.9615 - metric_precision: 0.9747 - metric_recall: 0.9805 - metric_F1score: 0.9772\n",
      "\n",
      " Test F1 Score : 0.9772\n"
     ]
    }
   ],
   "source": [
    "import os\n",
    "from keras.callbacks import ModelCheckpoint, EarlyStopping\n",
    "\n",
    "MODEL_DIR = './model/'\n",
    "if not os.path.exists(MODEL_DIR):\n",
    "    os.mkdir(MODEL_DIR)\n",
    "\n",
    "modelpath = './model/{epoch:02d}-{val_loss:4f}.hdf5'\n",
    "checkpointer = ModelCheckpoint(filepath=modelpath, monitor='val_loss', verbose=1, save_best_only=True)\n",
    "early_stopping_callback = EarlyStopping(monitor='val_loss', patience=10)\n",
    "\n",
    "history = model.fit(x_train, y_train, validation_data=(x_test, y_test), epochs=100,\n",
    "batch_size=32, verbose=0, callbacks=[early_stopping_callback, checkpointer])\n",
    "\n",
    "print('\\n Test F1 Score : %.4f' % (model.evaluate(x_test, y_test)[4]))"
   ]
  },
  {
   "cell_type": "code",
   "execution_count": 17,
   "metadata": {},
   "outputs": [
    {
     "data": {
      "image/png": "[encoded data removed]",
      "text/plain": [
       "<Figure size 432x288 with 1 Axes>"
      ]
     },
     "metadata": {
      "needs_background": "light"
     },
     "output_type": "display_data"
    }
   ],
   "source": [
    "# 테스트 셋의 오차\n",
    "y_vloss = history.history['val_loss']\n",
    "\n",
    "# 학습셋의 오차\n",
    "y_loss = history.history[\"loss\"]\n",
    "\n",
    "# 그래프로 표현\n",
    "x_len = np.arange(len(y_loss))\n",
    "plt.plot(x_len, y_vloss, marker=\".\", c=\"red\", label=\"Testset_loss\")\n",
    "plt.plot(x_len, y_loss, marker=\".\", c=\"blue\", label=\"Trainset_loss\")\n",
    "\n",
    "# 그래프에 그리드를 주고 레이블을 표시\n",
    "plt.legend()\n",
    "plt.grid()\n",
    "plt.xlabel(\"epoch\")\n",
    "plt.ylabel(\"loss\")\n",
    "plt.show()"
   ]
  },
  {
   "cell_type": "markdown",
   "metadata": {},
   "source": [
    "##### BatchNormalization https://eehoeskrap.tistory.com/430"
   ]
  }
 ],
 "metadata": {
  "interpreter": {
   "hash": "1fa163922eb0b3709bbb5d8082b2465c9de796dbaacca80cbaa600e7fff3e4fe"
  },
  "kernelspec": {
   "display_name": "Python 3.10.1 64-bit",
   "language": "python",
   "name": "python3"
  },
  "language_info": {
   "codemirror_mode": {
    "name": "ipython",
    "version": 3
   },
   "file_extension": ".py",
   "mimetype": "text/x-python",
   "name": "python",
   "nbconvert_exporter": "python",
   "pygments_lexer": "ipython3",
   "version": "3.10.1"
  },
  "orig_nbformat": 4
 },
 "nbformat": 4,
 "nbformat_minor": 2
}
