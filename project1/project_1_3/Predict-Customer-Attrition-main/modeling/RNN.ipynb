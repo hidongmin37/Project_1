{
 "cells": [
  {
   "cell_type": "code",
   "execution_count": 4,
   "metadata": {},
   "outputs": [],
   "source": [
    "from sklearn.preprocessing import LabelEncoder\n",
    "from sklearn.model_selection import train_test_split\n",
    "from sklearn.preprocessing import StandardScaler\n",
    "from tensorflow import keras\n",
    "from tensorflow.keras.models import Sequential\n",
    "from tensorflow.keras.layers import Dense, Dropout, BatchNormalization, Activation\n",
    "from tensorflow.keras.utils import to_categorical\n",
    "from tensorflow.keras.optimizers import Adam\n",
    "from imblearn.under_sampling import OneSidedSelection, TomekLinks, EditedNearestNeighbours\n",
    "\n",
    "import random\n",
    "import numpy as np\n",
    "import pandas as pd\n",
    "import matplotlib.pyplot as plt\n",
    "import seaborn as sns"
   ]
  },
  {
   "cell_type": "code",
   "execution_count": 5,
   "metadata": {},
   "outputs": [],
   "source": [
    "data = pd.read_csv('../datasets/BankChurners.csv')\n",
    "list = ['Attrition_Flag', 'Total_Trans_Ct', 'Total_Trans_Amt', 'Total_Revolving_Bal', 'Total_Ct_Chng_Q4_Q1', 'Contacts_Count_12_mon', 'Total_Relationship_Count', 'Months_Inactive_12_mon', 'Months_on_book']\n",
    "data = data[list]\n",
    "np.random.seed(42)\n",
    "random.seed(42)"
   ]
  },
  {
   "cell_type": "code",
   "execution_count": 6,
   "metadata": {},
   "outputs": [],
   "source": [
    "import tensorflow as tf\n",
    "\n",
    "def metric_precision(y_true,y_pred): \n",
    " TP=tf.reduce_sum(y_true*tf.round(y_pred))\n",
    " TN=tf.reduce_sum((1-y_true)*(1-tf.round(y_pred)))\n",
    " FP=tf.reduce_sum((1-y_true)*tf.round(y_pred))\n",
    " FN=tf.reduce_sum(y_true*(1-tf.round(y_pred)))\n",
    " precision=TP/(TP+FP)\n",
    " return precision\n",
    "\n",
    "def metric_recall(y_true,y_pred): \n",
    " TP=tf.reduce_sum(y_true*tf.round(y_pred))\n",
    " TN=tf.reduce_sum((1-y_true)*(1-tf.round(y_pred)))\n",
    " FP=tf.reduce_sum((1-y_true)*tf.round(y_pred))\n",
    " FN=tf.reduce_sum(y_true*(1-tf.round(y_pred)))\n",
    " recall=TP/(TP+FN)\n",
    " return recall\n",
    "\n",
    "#F1-score    \n",
    "def metric_F1score(y_true,y_pred): \n",
    " TP=tf.reduce_sum(y_true*tf.round(y_pred))\n",
    " TN=tf.reduce_sum((1-y_true)*(1-tf.round(y_pred)))\n",
    " FP=tf.reduce_sum((1-y_true)*tf.round(y_pred))\n",
    " FN=tf.reduce_sum(y_true*(1-tf.round(y_pred)))\n",
    " precision=TP/(TP+FP)\n",
    " recall=TP/(TP+FN)\n",
    " F1score=2*precision*recall/(precision+recall)\n",
    " return F1score"
   ]
  },
  {
   "cell_type": "markdown",
   "metadata": {},
   "source": [
    "## onesideselection"
   ]
  },
  {
   "cell_type": "code",
   "execution_count": 17,
   "metadata": {},
   "outputs": [],
   "source": [
    "input = data.iloc[:,1:]\n",
    "target = data.iloc[:,0]\n",
    "\n",
    "x_train, x_test, y_train, y_test = train_test_split(input, target, random_state=42, test_size=0.2)\n",
    "\n",
    "ss = StandardScaler()\n",
    "x_train = ss.fit_transform(x_train)\n",
    "x_test = ss.fit_transform(x_test)\n",
    "\n",
    "oss = OneSidedSelection(random_state=42)\n",
    "x_train, y_train = oss.fit_resample(x_train, y_train)"
   ]
  },
  {
   "cell_type": "code",
   "execution_count": 20,
   "metadata": {},
   "outputs": [
    {
     "name": "stdout",
     "output_type": "stream",
     "text": [
      "Model: \"sequential_3\"\n",
      "_________________________________________________________________\n",
      " Layer (type)                Output Shape              Param #   \n",
      "=================================================================\n",
      " batch_normalization_9 (Batc  (None, 8)                32        \n",
      " hNormalization)                                                 \n",
      "                                                                 \n",
      " dense_12 (Dense)            (None, 128)               1152      \n",
      "                                                                 \n",
      " batch_normalization_10 (Bat  (None, 128)              512       \n",
      " chNormalization)                                                \n",
      "                                                                 \n",
      " dense_13 (Dense)            (None, 64)                8256      \n",
      "                                                                 \n",
      " dropout_3 (Dropout)         (None, 64)                0         \n",
      "                                                                 \n",
      " batch_normalization_11 (Bat  (None, 64)               256       \n",
      " chNormalization)                                                \n",
      "                                                                 \n",
      " dense_14 (Dense)            (None, 32)                2080      \n",
      "                                                                 \n",
      " dense_15 (Dense)            (None, 1)                 33        \n",
      "                                                                 \n",
      "=================================================================\n",
      "Total params: 12,321\n",
      "Trainable params: 11,921\n",
      "Non-trainable params: 400\n",
      "_________________________________________________________________\n"
     ]
    }
   ],
   "source": [
    "model = Sequential()\n",
    "\n",
    "model.add(keras.Input(shape=(8,)))\n",
    "\n",
    "model.add(BatchNormalization())\n",
    "model.add(Dense(128, activation='relu'))\n",
    "\n",
    "model.add(BatchNormalization())\n",
    "model.add(Dense(64, activation='relu'))\n",
    "model.add(Dropout(0.5))\n",
    "\n",
    "model.add(BatchNormalization())\n",
    "model.add(Dense(32, activation='relu'))\n",
    "\n",
    "model.add(Dense(1, activation='sigmoid'))\n",
    "\n",
    "model.compile(optimizer='adam',\n",
    "\t loss='binary_crossentropy',\n",
    "\t metrics=['accuracy',\n",
    "\t \t\tmetric_precision,\n",
    "\t \t\tmetric_recall,\n",
    "\t \t\tmetric_F1score,\n",
    "\t\t\t ])\n",
    "            \n",
    "model.summary()"
   ]
  },
  {
   "cell_type": "code",
   "execution_count": 21,
   "metadata": {},
   "outputs": [
    {
     "name": "stdout",
     "output_type": "stream",
     "text": [
      "\n",
      "Epoch 1: val_loss improved from inf to 0.23537, saving model to ./model\\01-0.235371.hdf5\n",
      "\n",
      "Epoch 2: val_loss improved from 0.23537 to 0.18306, saving model to ./model\\02-0.183057.hdf5\n",
      "\n",
      "Epoch 3: val_loss did not improve from 0.18306\n",
      "\n",
      "Epoch 4: val_loss improved from 0.18306 to 0.17176, saving model to ./model\\04-0.171756.hdf5\n",
      "\n",
      "Epoch 5: val_loss improved from 0.17176 to 0.16439, saving model to ./model\\05-0.164390.hdf5\n",
      "\n",
      "Epoch 6: val_loss did not improve from 0.16439\n",
      "\n",
      "Epoch 7: val_loss improved from 0.16439 to 0.15904, saving model to ./model\\07-0.159037.hdf5\n",
      "\n",
      "Epoch 8: val_loss did not improve from 0.15904\n",
      "\n",
      "Epoch 9: val_loss did not improve from 0.15904\n",
      "\n",
      "Epoch 10: val_loss improved from 0.15904 to 0.15885, saving model to ./model\\10-0.158855.hdf5\n",
      "\n",
      "Epoch 11: val_loss did not improve from 0.15885\n",
      "\n",
      "Epoch 12: val_loss improved from 0.15885 to 0.15414, saving model to ./model\\12-0.154138.hdf5\n",
      "\n",
      "Epoch 13: val_loss did not improve from 0.15414\n",
      "\n",
      "Epoch 14: val_loss improved from 0.15414 to 0.14768, saving model to ./model\\14-0.147679.hdf5\n",
      "\n",
      "Epoch 15: val_loss improved from 0.14768 to 0.14621, saving model to ./model\\15-0.146214.hdf5\n",
      "\n",
      "Epoch 16: val_loss improved from 0.14621 to 0.14312, saving model to ./model\\16-0.143115.hdf5\n",
      "\n",
      "Epoch 17: val_loss did not improve from 0.14312\n",
      "\n",
      "Epoch 18: val_loss improved from 0.14312 to 0.14050, saving model to ./model\\18-0.140497.hdf5\n",
      "\n",
      "Epoch 19: val_loss did not improve from 0.14050\n",
      "\n",
      "Epoch 20: val_loss improved from 0.14050 to 0.13979, saving model to ./model\\20-0.139794.hdf5\n",
      "\n",
      "Epoch 21: val_loss improved from 0.13979 to 0.13579, saving model to ./model\\21-0.135788.hdf5\n",
      "\n",
      "Epoch 22: val_loss did not improve from 0.13579\n",
      "\n",
      "Epoch 23: val_loss did not improve from 0.13579\n",
      "\n",
      "Epoch 24: val_loss improved from 0.13579 to 0.12964, saving model to ./model\\24-0.129639.hdf5\n",
      "\n",
      "Epoch 25: val_loss did not improve from 0.12964\n",
      "\n",
      "Epoch 26: val_loss did not improve from 0.12964\n",
      "\n",
      "Epoch 27: val_loss did not improve from 0.12964\n",
      "\n",
      "Epoch 28: val_loss did not improve from 0.12964\n",
      "\n",
      "Epoch 29: val_loss did not improve from 0.12964\n",
      "\n",
      "Epoch 30: val_loss did not improve from 0.12964\n",
      "\n",
      "Epoch 31: val_loss did not improve from 0.12964\n",
      "\n",
      "Epoch 32: val_loss did not improve from 0.12964\n",
      "\n",
      "Epoch 33: val_loss did not improve from 0.12964\n",
      "\n",
      "Epoch 34: val_loss did not improve from 0.12964\n",
      "64/64 [==============================] - 0s 619us/step - loss: 0.1341 - accuracy: 0.9511 - metric_precision: 0.9715 - metric_recall: 0.9712 - metric_F1score: 0.9708\n",
      "\n",
      " Test F1 Score : 0.9708\n"
     ]
    }
   ],
   "source": [
    "import os\n",
    "from keras.callbacks import ModelCheckpoint, EarlyStopping\n",
    "\n",
    "MODEL_DIR = './model/'\n",
    "if not os.path.exists(MODEL_DIR):\n",
    "    os.mkdir(MODEL_DIR)\n",
    "\n",
    "modelpath = './model/{epoch:02d}-{val_loss:4f}.hdf5'\n",
    "checkpointer = ModelCheckpoint(filepath=modelpath, monitor='val_loss', verbose=1, save_best_only=True)\n",
    "early_stopping_callback = EarlyStopping(monitor='val_loss', patience=10)\n",
    "\n",
    "history = model.fit(x_train, y_train, validation_data=(x_test, y_test), epochs=100,\n",
    "batch_size=32, verbose=0, callbacks=[early_stopping_callback, checkpointer])\n",
    "\n",
    "print('\\n Test F1 Score : %.4f' % (model.evaluate(x_test, y_test)[4]))"
   ]
  },
  {
   "cell_type": "code",
   "execution_count": 22,
   "metadata": {},
   "outputs": [
    {
     "data": {
      "text/plain": [
       "array([[0.99329627],\n",
       "       [0.9999665 ],\n",
       "       [0.97908187],\n",
       "       ...,\n",
       "       [0.9965174 ],\n",
       "       [0.9021837 ],\n",
       "       [0.99687016]], dtype=float32)"
      ]
     },
     "execution_count": 22,
     "metadata": {},
     "output_type": "execute_result"
    }
   ],
   "source": [
    "pred = model.predict(x_test)\n",
    "pred"
   ]
  },
  {
   "cell_type": "code",
   "execution_count": 23,
   "metadata": {},
   "outputs": [
    {
     "data": {
      "image/png": "[encoded data removed]",
      "text/plain": [
       "<Figure size 432x288 with 1 Axes>"
      ]
     },
     "metadata": {
      "needs_background": "light"
     },
     "output_type": "display_data"
    }
   ],
   "source": [
    "# 테스트 셋의 오차\n",
    "y_vloss = history.history['val_loss']\n",
    "\n",
    "# 학습셋의 오차\n",
    "y_loss = history.history[\"loss\"]\n",
    "\n",
    "# 그래프로 표현\n",
    "x_len = np.arange(len(y_loss))\n",
    "plt.plot(x_len, y_vloss, marker=\".\", c=\"red\", label=\"Testset_loss\")\n",
    "plt.plot(x_len, y_loss, marker=\".\", c=\"blue\", label=\"Trainset_loss\")\n",
    "\n",
    "# 그래프에 그리드를 주고 레이블을 표시\n",
    "plt.legend()\n",
    "plt.grid()\n",
    "plt.xlabel(\"epoch\")\n",
    "plt.ylabel(\"loss\")\n",
    "plt.show()"
   ]
  },
  {
   "cell_type": "markdown",
   "metadata": {},
   "source": [
    "------------"
   ]
  },
  {
   "cell_type": "markdown",
   "metadata": {},
   "source": [
    "---------------------"
   ]
  },
  {
   "cell_type": "markdown",
   "metadata": {},
   "source": [
    "## sampling X"
   ]
  },
  {
   "cell_type": "code",
   "execution_count": 24,
   "metadata": {},
   "outputs": [
    {
     "name": "stdout",
     "output_type": "stream",
     "text": [
      "(8101, 8) (2026, 8) (8101,) (2026,)\n"
     ]
    }
   ],
   "source": [
    "x_train, x_test, y_train, y_test = train_test_split(input, target, random_state=42, test_size=0.2)\n",
    "\n",
    "ss = StandardScaler()\n",
    "x_train = ss.fit_transform(x_train)\n",
    "x_test = ss.fit_transform(x_test)\n",
    "\n",
    "print(x_train.shape, x_test.shape, y_train.shape, y_test.shape)"
   ]
  },
  {
   "cell_type": "code",
   "execution_count": 27,
   "metadata": {},
   "outputs": [
    {
     "name": "stdout",
     "output_type": "stream",
     "text": [
      "Model: \"sequential_5\"\n",
      "_________________________________________________________________\n",
      " Layer (type)                Output Shape              Param #   \n",
      "=================================================================\n",
      " batch_normalization_15 (Bat  (None, 8)                32        \n",
      " chNormalization)                                                \n",
      "                                                                 \n",
      " dense_20 (Dense)            (None, 128)               1152      \n",
      "                                                                 \n",
      " batch_normalization_16 (Bat  (None, 128)              512       \n",
      " chNormalization)                                                \n",
      "                                                                 \n",
      " dense_21 (Dense)            (None, 64)                8256      \n",
      "                                                                 \n",
      " dropout_5 (Dropout)         (None, 64)                0         \n",
      "                                                                 \n",
      " batch_normalization_17 (Bat  (None, 64)               256       \n",
      " chNormalization)                                                \n",
      "                                                                 \n",
      " dense_22 (Dense)            (None, 32)                2080      \n",
      "                                                                 \n",
      " dense_23 (Dense)            (None, 1)                 33        \n",
      "                                                                 \n",
      "=================================================================\n",
      "Total params: 12,321\n",
      "Trainable params: 11,921\n",
      "Non-trainable params: 400\n",
      "_________________________________________________________________\n"
     ]
    }
   ],
   "source": [
    "model = Sequential()\n",
    "\n",
    "model.add(keras.Input(shape=(8,)))\n",
    "\n",
    "model.add(BatchNormalization())\n",
    "model.add(Dense(128, activation='relu'))\n",
    "\n",
    "model.add(BatchNormalization())\n",
    "model.add(Dense(64, activation='relu'))\n",
    "model.add(Dropout(0.5))\n",
    "\n",
    "model.add(BatchNormalization())\n",
    "model.add(Dense(32, activation='relu'))\n",
    "\n",
    "model.add(Dense(1, activation='sigmoid'))\n",
    "\n",
    "model.compile(optimizer='adam',\n",
    "\t loss='binary_crossentropy',\n",
    "\t metrics=['accuracy',\n",
    "\t \t\tmetric_precision,\n",
    "\t \t\tmetric_recall,\n",
    "\t \t\tmetric_F1score,\n",
    "\t\t\t ])\n",
    "            \n",
    "model.summary()"
   ]
  },
  {
   "cell_type": "code",
   "execution_count": 28,
   "metadata": {},
   "outputs": [
    {
     "name": "stdout",
     "output_type": "stream",
     "text": [
      "\n",
      "Epoch 1: val_loss improved from inf to 0.25845, saving model to ./model\\01-0.258449.hdf5\n",
      "\n",
      "Epoch 2: val_loss improved from 0.25845 to 0.20144, saving model to ./model\\02-0.201443.hdf5\n",
      "\n",
      "Epoch 3: val_loss improved from 0.20144 to 0.18289, saving model to ./model\\03-0.182886.hdf5\n",
      "\n",
      "Epoch 4: val_loss improved from 0.18289 to 0.17788, saving model to ./model\\04-0.177880.hdf5\n",
      "\n",
      "Epoch 5: val_loss improved from 0.17788 to 0.17680, saving model to ./model\\05-0.176802.hdf5\n",
      "\n",
      "Epoch 6: val_loss improved from 0.17680 to 0.17394, saving model to ./model\\06-0.173945.hdf5\n",
      "\n",
      "Epoch 7: val_loss did not improve from 0.17394\n",
      "\n",
      "Epoch 8: val_loss improved from 0.17394 to 0.16443, saving model to ./model\\08-0.164433.hdf5\n",
      "\n",
      "Epoch 9: val_loss improved from 0.16443 to 0.16127, saving model to ./model\\09-0.161273.hdf5\n",
      "\n",
      "Epoch 10: val_loss improved from 0.16127 to 0.15741, saving model to ./model\\10-0.157413.hdf5\n",
      "\n",
      "Epoch 11: val_loss did not improve from 0.15741\n",
      "\n",
      "Epoch 12: val_loss improved from 0.15741 to 0.15473, saving model to ./model\\12-0.154730.hdf5\n",
      "\n",
      "Epoch 13: val_loss improved from 0.15473 to 0.15017, saving model to ./model\\13-0.150170.hdf5\n",
      "\n",
      "Epoch 14: val_loss did not improve from 0.15017\n",
      "\n",
      "Epoch 15: val_loss improved from 0.15017 to 0.14386, saving model to ./model\\15-0.143855.hdf5\n",
      "\n",
      "Epoch 16: val_loss improved from 0.14386 to 0.14102, saving model to ./model\\16-0.141018.hdf5\n",
      "\n",
      "Epoch 17: val_loss improved from 0.14102 to 0.13616, saving model to ./model\\17-0.136155.hdf5\n",
      "\n",
      "Epoch 18: val_loss improved from 0.13616 to 0.13186, saving model to ./model\\18-0.131864.hdf5\n",
      "\n",
      "Epoch 19: val_loss did not improve from 0.13186\n",
      "\n",
      "Epoch 20: val_loss improved from 0.13186 to 0.13051, saving model to ./model\\20-0.130512.hdf5\n",
      "\n",
      "Epoch 21: val_loss did not improve from 0.13051\n",
      "\n",
      "Epoch 22: val_loss improved from 0.13051 to 0.12808, saving model to ./model\\22-0.128075.hdf5\n",
      "\n",
      "Epoch 23: val_loss did not improve from 0.12808\n",
      "\n",
      "Epoch 24: val_loss did not improve from 0.12808\n",
      "\n",
      "Epoch 25: val_loss did not improve from 0.12808\n",
      "\n",
      "Epoch 26: val_loss improved from 0.12808 to 0.12214, saving model to ./model\\26-0.122136.hdf5\n",
      "\n",
      "Epoch 27: val_loss did not improve from 0.12214\n",
      "\n",
      "Epoch 28: val_loss did not improve from 0.12214\n",
      "\n",
      "Epoch 29: val_loss did not improve from 0.12214\n",
      "\n",
      "Epoch 30: val_loss did not improve from 0.12214\n",
      "\n",
      "Epoch 31: val_loss did not improve from 0.12214\n",
      "\n",
      "Epoch 32: val_loss did not improve from 0.12214\n",
      "\n",
      "Epoch 33: val_loss did not improve from 0.12214\n",
      "\n",
      "Epoch 34: val_loss did not improve from 0.12214\n",
      "\n",
      "Epoch 35: val_loss did not improve from 0.12214\n",
      "\n",
      "Epoch 36: val_loss improved from 0.12214 to 0.12194, saving model to ./model\\36-0.121942.hdf5\n",
      "\n",
      "Epoch 37: val_loss did not improve from 0.12194\n",
      "\n",
      "Epoch 38: val_loss did not improve from 0.12194\n",
      "\n",
      "Epoch 39: val_loss did not improve from 0.12194\n",
      "\n",
      "Epoch 40: val_loss did not improve from 0.12194\n",
      "\n",
      "Epoch 41: val_loss did not improve from 0.12194\n",
      "\n",
      "Epoch 42: val_loss improved from 0.12194 to 0.11877, saving model to ./model\\42-0.118771.hdf5\n",
      "\n",
      "Epoch 43: val_loss did not improve from 0.11877\n",
      "\n",
      "Epoch 44: val_loss did not improve from 0.11877\n",
      "\n",
      "Epoch 45: val_loss did not improve from 0.11877\n",
      "\n",
      "Epoch 46: val_loss did not improve from 0.11877\n",
      "\n",
      "Epoch 47: val_loss did not improve from 0.11877\n",
      "\n",
      "Epoch 48: val_loss improved from 0.11877 to 0.11719, saving model to ./model\\48-0.117193.hdf5\n",
      "\n",
      "Epoch 49: val_loss did not improve from 0.11719\n",
      "\n",
      "Epoch 50: val_loss did not improve from 0.11719\n",
      "\n",
      "Epoch 51: val_loss did not improve from 0.11719\n",
      "\n",
      "Epoch 52: val_loss did not improve from 0.11719\n",
      "\n",
      "Epoch 53: val_loss did not improve from 0.11719\n",
      "\n",
      "Epoch 54: val_loss did not improve from 0.11719\n",
      "\n",
      "Epoch 55: val_loss did not improve from 0.11719\n",
      "\n",
      "Epoch 56: val_loss did not improve from 0.11719\n",
      "\n",
      "Epoch 57: val_loss did not improve from 0.11719\n",
      "\n",
      "Epoch 58: val_loss did not improve from 0.11719\n",
      "64/64 [==============================] - 0s 635us/step - loss: 0.1192 - accuracy: 0.9541 - metric_precision: 0.9664 - metric_recall: 0.9797 - metric_F1score: 0.9726\n",
      "\n",
      " Test F1 Score : 0.9726\n"
     ]
    }
   ],
   "source": [
    "import os\n",
    "from keras.callbacks import ModelCheckpoint, EarlyStopping\n",
    "\n",
    "MODEL_DIR = './model/'\n",
    "if not os.path.exists(MODEL_DIR):\n",
    "    os.mkdir(MODEL_DIR)\n",
    "\n",
    "modelpath = './model/{epoch:02d}-{val_loss:4f}.hdf5'\n",
    "checkpointer = ModelCheckpoint(filepath=modelpath, monitor='val_loss', verbose=1, save_best_only=True)\n",
    "early_stopping_callback = EarlyStopping(monitor='val_loss', patience=10)\n",
    "\n",
    "history = model.fit(x_train, y_train, validation_data=(x_test, y_test), epochs=100,\n",
    "batch_size=32, verbose=0, callbacks=[early_stopping_callback, checkpointer])\n",
    "\n",
    "print('\\n Test F1 Score : %.4f' % (model.evaluate(x_test, y_test)[4]))"
   ]
  },
  {
   "cell_type": "code",
   "execution_count": 29,
   "metadata": {},
   "outputs": [
    {
     "data": {
      "image/png": "[encoded data removed]",
      "text/plain": [
       "<Figure size 432x288 with 1 Axes>"
      ]
     },
     "metadata": {
      "needs_background": "light"
     },
     "output_type": "display_data"
    }
   ],
   "source": [
    "# 테스트 셋의 오차\n",
    "y_vloss = history.history['val_loss']\n",
    "\n",
    "# 학습셋의 오차\n",
    "y_loss = history.history[\"loss\"]\n",
    "\n",
    "# 그래프로 표현\n",
    "x_len = np.arange(len(y_loss))\n",
    "plt.plot(x_len, y_vloss, marker=\".\", c=\"red\", label=\"Testset_loss\")\n",
    "plt.plot(x_len, y_loss, marker=\".\", c=\"blue\", label=\"Trainset_loss\")\n",
    "\n",
    "# 그래프에 그리드를 주고 레이블을 표시\n",
    "plt.legend()\n",
    "plt.grid()\n",
    "plt.xlabel(\"epoch\")\n",
    "plt.ylabel(\"loss\")\n",
    "plt.show()"
   ]
  },
  {
   "cell_type": "markdown",
   "metadata": {},
   "source": [
    "##### BatchNormalization https://eehoeskrap.tistory.com/430"
   ]
  },
  {
   "cell_type": "markdown",
   "metadata": {},
   "source": []
  }
 ],
 "metadata": {
  "interpreter": {
   "hash": "1fa163922eb0b3709bbb5d8082b2465c9de796dbaacca80cbaa600e7fff3e4fe"
  },
  "kernelspec": {
   "display_name": "Python 3.10.1 64-bit",
   "language": "python",
   "name": "python3"
  },
  "language_info": {
   "codemirror_mode": {
    "name": "ipython",
    "version": 3
   },
   "file_extension": ".py",
   "mimetype": "text/x-python",
   "name": "python",
   "nbconvert_exporter": "python",
   "pygments_lexer": "ipython3",
   "version": "3.10.1"
  },
  "orig_nbformat": 4
 },
 "nbformat": 4,
 "nbformat_minor": 2
}
