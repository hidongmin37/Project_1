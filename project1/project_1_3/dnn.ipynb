{
 "cells": [
  {
   "cell_type": "code",
   "execution_count": 82,
   "metadata": {},
   "outputs": [],
   "source": [
    "import tensorflow as tf\n",
    "from tensorflow import keras\n",
    "import pandas as pd\n",
    "from sklearn.preprocessing import LabelEncoder, StandardScaler\n",
    "from sklearn.model_selection import train_test_split, GridSearchCV\n",
    "import numpy as np\n",
    "import seaborn as sns\n",
    "from pylab import rcParams\n",
    "import matplotlib.pyplot as plt\n",
    "from pylab import rcParams\n",
    "import matplotlib.pyplot as plt\n",
    "from matplotlib import rc\n",
    "from sklearn.model_selection import train_test_split\n",
    "\n",
    "%matplotlib inline\n",
    "sns.set(style='whitegrid', palette='muted', font_scale=1.5)\n",
    "rcParams['figure.figsize'] = 14, 8\n",
    "RANDOM_SEED = 42\n",
    "np.random.seed(RANDOM_SEED)"
   ]
  },
  {
   "cell_type": "code",
   "execution_count": 83,
   "metadata": {},
   "outputs": [],
   "source": [
    "churners=pd.read_csv('./Predict-Customer-Attrition-main/datasets/BankChurners.csv')"
   ]
  },
  {
   "cell_type": "code",
   "execution_count": 84,
   "metadata": {},
   "outputs": [
    {
     "data": {
      "text/plain": [
       "Index(['CLIENTNUM', 'Attrition_Flag', 'Customer_Age', 'Gender',\n",
       "       'Dependent_count', 'Education_Level', 'Marital_Status',\n",
       "       'Income_Category', 'Card_Category', 'Months_on_book',\n",
       "       'Total_Relationship_Count', 'Months_Inactive_12_mon',\n",
       "       'Contacts_Count_12_mon', 'Credit_Limit', 'Total_Revolving_Bal',\n",
       "       'Avg_Open_To_Buy', 'Total_Amt_Chng_Q4_Q1', 'Total_Trans_Amt',\n",
       "       'Total_Trans_Ct', 'Total_Ct_Chng_Q4_Q1', 'Avg_Utilization_Ratio',\n",
       "       'Naive_Bayes_Classifier_Attrition_Flag_Card_Category_Contacts_Count_12_mon_Dependent_count_Education_Level_Months_Inactive_12_mon_1',\n",
       "       'Naive_Bayes_Classifier_Attrition_Flag_Card_Category_Contacts_Count_12_mon_Dependent_count_Education_Level_Months_Inactive_12_mon_2'],\n",
       "      dtype='object')"
      ]
     },
     "execution_count": 84,
     "metadata": {},
     "output_type": "execute_result"
    }
   ],
   "source": [
    "churners.columns"
   ]
  },
  {
   "cell_type": "code",
   "execution_count": 85,
   "metadata": {},
   "outputs": [],
   "source": [
    "list = ['Attrition_Flag', 'Total_Trans_Ct', 'Total_Trans_Amt', 'Total_Revolving_Bal', 'Total_Ct_Chng_Q4_Q1', 'Contacts_Count_12_mon', 'Total_Relationship_Count', 'Months_Inactive_12_mon', 'Months_on_book']\n",
    "churners = churners[list]"
   ]
  },
  {
   "cell_type": "code",
   "execution_count": 86,
   "metadata": {},
   "outputs": [
    {
     "name": "stdout",
     "output_type": "stream",
     "text": [
      "category : [0 1]\n",
      "classes : ['Attrited Customer' 'Existing Customer']\n",
      "\n"
     ]
    }
   ],
   "source": [
    "object_columns = churners.select_dtypes('object').columns\n",
    "\n",
    "for i in object_columns:\n",
    "\n",
    "    lb = LabelEncoder()\n",
    "    lb.fit(churners[i])\n",
    "    churners[i] = lb.transform(churners[i])\n",
    "    \n",
    "    print(f'category : {np.unique(churners[i])}\\nclasses : {lb.classes_}\\n')\n",
    "\n",
    "input = churners.iloc[:,1:]\n",
    "target = churners.iloc[:,0]"
   ]
  },
  {
   "cell_type": "code",
   "execution_count": 87,
   "metadata": {},
   "outputs": [],
   "source": [
    "x_train, x_test, y_train, y_test = train_test_split(input, target, random_state=42, test_size=0.2)\n",
    "\n",
    "ss = StandardScaler()\n",
    "x_train = ss.fit_transform(x_train)\n",
    "x_test = ss.fit_transform(x_test)\n"
   ]
  },
  {
   "cell_type": "code",
   "execution_count": 88,
   "metadata": {},
   "outputs": [
    {
     "data": {
      "text/plain": [
       "(8101, 8)"
      ]
     },
     "execution_count": 88,
     "metadata": {},
     "output_type": "execute_result"
    }
   ],
   "source": [
    "x_train.shape"
   ]
  },
  {
   "cell_type": "code",
   "execution_count": 89,
   "metadata": {},
   "outputs": [],
   "source": [
    "#Sequential 객체에 layer add하기\n",
    "model=keras.models.Sequential()\n",
    "model.add(keras.layers.Flatten(input_shape=[8,])) # 2이미지를 1D array로 변환\n",
    "model.add(keras.layers.Dense(300,activation='relu'))\n",
    "model.add(keras.layers.Dense(100,activation='relu'))\n",
    "model.add(keras.layers.Dense(10,activation='softmax'))\n"
   ]
  },
  {
   "cell_type": "code",
   "execution_count": 90,
   "metadata": {},
   "outputs": [],
   "source": [
    "model=keras.models.Sequential([\n",
    "    keras.layers.Flatten(input_shape=[8,]),\n",
    "    keras.layers.Dense(300,activation='relu'),\n",
    "    keras.layers.Dropout(rate=0.2),\n",
    "    keras.layers.Dense(100,activation='relu'),\n",
    "    keras.layers.Dropout(rate=0.2),\n",
    "    keras.layers.Dense(10,activation='softmax'),\n",
    "    \n",
    "    ])"
   ]
  },
  {
   "cell_type": "code",
   "execution_count": 91,
   "metadata": {},
   "outputs": [
    {
     "name": "stdout",
     "output_type": "stream",
     "text": [
      "Model: \"sequential_14\"\n",
      "_________________________________________________________________\n",
      "Layer (type)                 Output Shape              Param #   \n",
      "=================================================================\n",
      "flatten_14 (Flatten)         (None, 8)                 0         \n",
      "_________________________________________________________________\n",
      "dense_42 (Dense)             (None, 300)               2700      \n",
      "_________________________________________________________________\n",
      "dropout_4 (Dropout)          (None, 300)               0         \n",
      "_________________________________________________________________\n",
      "dense_43 (Dense)             (None, 100)               30100     \n",
      "_________________________________________________________________\n",
      "dropout_5 (Dropout)          (None, 100)               0         \n",
      "_________________________________________________________________\n",
      "dense_44 (Dense)             (None, 10)                1010      \n",
      "=================================================================\n",
      "Total params: 33,810\n",
      "Trainable params: 33,810\n",
      "Non-trainable params: 0\n",
      "_________________________________________________________________\n"
     ]
    }
   ],
   "source": [
    "model.summary()"
   ]
  },
  {
   "cell_type": "code",
   "execution_count": 92,
   "metadata": {},
   "outputs": [],
   "source": [
    "#compile메서드를 통해 한번에 compile하기\n",
    "model.compile(loss='sparse_categorical_crossentropy',\n",
    "              optimizer='sgd',\n",
    "              metrics=['accuracy'])"
   ]
  },
  {
   "cell_type": "code",
   "execution_count": 93,
   "metadata": {},
   "outputs": [],
   "source": [
    "loss=keras.losses.sparse_categorical_crossentropy\n",
    "optimizer=keras.optimizers.SGD()\n",
    "metrics=[keras.metrics.sparse_categorical_accuracy]"
   ]
  },
  {
   "cell_type": "code",
   "execution_count": 94,
   "metadata": {},
   "outputs": [
    {
     "name": "stdout",
     "output_type": "stream",
     "text": [
      "Train on 8101 samples, validate on 2026 samples\n",
      "Epoch 1/30\n",
      "8101/8101 [==============================] - 1s 73us/sample - loss: 0.7919 - acc: 0.8277 - val_loss: 0.3815 - val_acc: 0.8736\n",
      "Epoch 2/30\n",
      "8101/8101 [==============================] - 0s 55us/sample - loss: 0.3293 - acc: 0.8880 - val_loss: 0.3003 - val_acc: 0.8850\n",
      "Epoch 3/30\n",
      "8101/8101 [==============================] - 0s 54us/sample - loss: 0.2856 - acc: 0.8966 - val_loss: 0.2786 - val_acc: 0.8889\n",
      "Epoch 4/30\n",
      "8101/8101 [==============================] - 0s 56us/sample - loss: 0.2663 - acc: 0.9019 - val_loss: 0.2629 - val_acc: 0.8939\n",
      "Epoch 5/30\n",
      "8101/8101 [==============================] - 0s 56us/sample - loss: 0.2539 - acc: 0.9026 - val_loss: 0.2526 - val_acc: 0.8968\n",
      "Epoch 6/30\n",
      "8101/8101 [==============================] - 0s 52us/sample - loss: 0.2441 - acc: 0.9038 - val_loss: 0.2400 - val_acc: 0.9057\n",
      "Epoch 7/30\n",
      "8101/8101 [==============================] - 0s 58us/sample - loss: 0.2367 - acc: 0.9075 - val_loss: 0.2324 - val_acc: 0.9057\n",
      "Epoch 8/30\n",
      "8101/8101 [==============================] - 0s 52us/sample - loss: 0.2313 - acc: 0.9074 - val_loss: 0.2256 - val_acc: 0.9092\n",
      "Epoch 9/30\n",
      "8101/8101 [==============================] - 0s 53us/sample - loss: 0.2221 - acc: 0.9108 - val_loss: 0.2182 - val_acc: 0.9161\n",
      "Epoch 10/30\n",
      "8101/8101 [==============================] - 0s 51us/sample - loss: 0.2164 - acc: 0.9143 - val_loss: 0.2170 - val_acc: 0.9126\n",
      "Epoch 11/30\n",
      "8101/8101 [==============================] - 0s 51us/sample - loss: 0.2090 - acc: 0.9149 - val_loss: 0.2074 - val_acc: 0.9205\n",
      "Epoch 12/30\n",
      "8101/8101 [==============================] - 0s 51us/sample - loss: 0.2081 - acc: 0.9177 - val_loss: 0.2032 - val_acc: 0.9230\n",
      "Epoch 13/30\n",
      "8101/8101 [==============================] - 0s 52us/sample - loss: 0.2052 - acc: 0.9156 - val_loss: 0.2003 - val_acc: 0.9230\n",
      "Epoch 14/30\n",
      "8101/8101 [==============================] - 0s 53us/sample - loss: 0.2021 - acc: 0.9193 - val_loss: 0.1990 - val_acc: 0.9195\n",
      "Epoch 15/30\n",
      "8101/8101 [==============================] - 0s 58us/sample - loss: 0.1978 - acc: 0.9224 - val_loss: 0.1973 - val_acc: 0.9200\n",
      "Epoch 16/30\n",
      "8101/8101 [==============================] - 0s 54us/sample - loss: 0.1924 - acc: 0.9242 - val_loss: 0.1920 - val_acc: 0.9255\n",
      "Epoch 17/30\n",
      "8101/8101 [==============================] - 0s 53us/sample - loss: 0.1906 - acc: 0.9251 - val_loss: 0.1888 - val_acc: 0.9255\n",
      "Epoch 18/30\n",
      "8101/8101 [==============================] - 0s 52us/sample - loss: 0.1926 - acc: 0.9226 - val_loss: 0.1877 - val_acc: 0.9260\n",
      "Epoch 19/30\n",
      "8101/8101 [==============================] - 0s 52us/sample - loss: 0.1871 - acc: 0.9246 - val_loss: 0.1866 - val_acc: 0.9255\n",
      "Epoch 20/30\n",
      "8101/8101 [==============================] - 0s 53us/sample - loss: 0.1874 - acc: 0.9236 - val_loss: 0.1843 - val_acc: 0.9274\n",
      "Epoch 21/30\n",
      "8101/8101 [==============================] - 0s 51us/sample - loss: 0.1833 - acc: 0.9273 - val_loss: 0.1825 - val_acc: 0.9284\n",
      "Epoch 22/30\n",
      "8101/8101 [==============================] - 0s 53us/sample - loss: 0.1856 - acc: 0.9263 - val_loss: 0.1834 - val_acc: 0.9245\n",
      "Epoch 23/30\n",
      "8101/8101 [==============================] - 0s 53us/sample - loss: 0.1841 - acc: 0.9267 - val_loss: 0.1838 - val_acc: 0.9240\n",
      "Epoch 24/30\n",
      "8101/8101 [==============================] - 0s 55us/sample - loss: 0.1800 - acc: 0.9272 - val_loss: 0.1798 - val_acc: 0.9309\n",
      "Epoch 25/30\n",
      "8101/8101 [==============================] - 0s 54us/sample - loss: 0.1826 - acc: 0.9272 - val_loss: 0.1802 - val_acc: 0.9279\n",
      "Epoch 26/30\n",
      "8101/8101 [==============================] - 0s 55us/sample - loss: 0.1804 - acc: 0.9278 - val_loss: 0.1781 - val_acc: 0.9304\n",
      "Epoch 27/30\n",
      "8101/8101 [==============================] - 0s 53us/sample - loss: 0.1770 - acc: 0.9287 - val_loss: 0.1784 - val_acc: 0.9319\n",
      "Epoch 28/30\n",
      "8101/8101 [==============================] - 0s 53us/sample - loss: 0.1797 - acc: 0.9287 - val_loss: 0.1780 - val_acc: 0.9274\n",
      "Epoch 29/30\n",
      "8101/8101 [==============================] - 0s 53us/sample - loss: 0.1773 - acc: 0.9294 - val_loss: 0.1769 - val_acc: 0.9299\n",
      "Epoch 30/30\n",
      "8101/8101 [==============================] - 0s 54us/sample - loss: 0.1757 - acc: 0.9290 - val_loss: 0.1793 - val_acc: 0.9274\n"
     ]
    }
   ],
   "source": [
    "history=model.fit(x_train,y_train,epochs=30,\n",
    "                  validation_data=(x_test,y_test))"
   ]
  },
  {
   "cell_type": "code",
   "execution_count": 95,
   "metadata": {},
   "outputs": [],
   "source": [
    "def create_dataset(dataframe, batch_size=32):\n",
    "  dataframe = dataframe.copy()\n",
    "  labels = dataframe.pop('Attrition_Flag')\n",
    "  return tf.data.Dataset.from_tensor_slices((dict(dataframe), labels)) \\\n",
    "          .shuffle(buffer_size=len(dataframe)) \\\n",
    "          .batch(batch_size)"
   ]
  },
  {
   "cell_type": "code",
   "execution_count": 96,
   "metadata": {},
   "outputs": [],
   "source": [
    "train, test = train_test_split(churners, test_size=0.2, random_state=RANDOM_SEED)\n",
    "\n",
    "train_ds = create_dataset(train)\n",
    "test_ds = create_dataset(test)"
   ]
  },
  {
   "cell_type": "code",
   "execution_count": null,
   "metadata": {},
   "outputs": [],
   "source": []
  }
 ],
 "metadata": {
  "interpreter": {
   "hash": "b03761ec1c00e9e5579de714e1953ea46846819575996fd8355a8bd0f8f23387"
  },
  "kernelspec": {
   "display_name": "Python 3.6.8 64-bit",
   "language": "python",
   "name": "python3"
  },
  "language_info": {
   "codemirror_mode": {
    "name": "ipython",
    "version": 3
   },
   "file_extension": ".py",
   "mimetype": "text/x-python",
   "name": "python",
   "nbconvert_exporter": "python",
   "pygments_lexer": "ipython3",
   "version": "3.6.8"
  },
  "orig_nbformat": 4
 },
 "nbformat": 4,
 "nbformat_minor": 2
}
