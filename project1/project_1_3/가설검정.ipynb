{
 "cells": [
  {
   "cell_type": "code",
   "execution_count": 9,
   "metadata": {},
   "outputs": [],
   "source": [
    "from imblearn.under_sampling import NearMiss\n",
    "from imblearn.combine import SMOTETomek\n",
    "from imblearn.under_sampling import TomekLinks\n",
    "from imblearn.under_sampling import RandomUnderSampler  \n",
    "from sklearn.preprocessing import OneHotEncoder,LabelEncoder\n",
    "from sklearn.neighbors import KNeighborsClassifier as KNN\n",
    "from sklearn.model_selection import train_test_split\n",
    "from sklearn.tree import DecisionTreeClassifier\n",
    "from sklearn.model_selection import GridSearchCV\n",
    "from imblearn.over_sampling import SMOTE\n",
    "from imblearn.combine import SMOTETomek\n",
    "from imblearn.under_sampling import TomekLinks\n",
    "from imblearn.over_sampling import ADASYN\n",
    "from sklearn.metrics import *\n",
    "import statsmodels.api as sm\n",
    "import statsmodels.formula.api as smf\n",
    "from statsmodels.stats import weightstats\n",
    "from statsmodels.stats import proportion\n",
    "from scipy.stats import t\n",
    "\n",
    "import pandas as pd\n",
    "import numpy as np\n",
    "import matplotlib.pyplot as plt\n",
    "import seaborn as sns"
   ]
  },
  {
   "cell_type": "code",
   "execution_count": 2,
   "metadata": {},
   "outputs": [
    {
     "data": {
      "text/plain": [
       "(10127, 20)"
      ]
     },
     "execution_count": 2,
     "metadata": {},
     "output_type": "execute_result"
    }
   ],
   "source": [
    "df = pd.read_csv('../dataset/BankChurners.csv').iloc[:,1:-2]\n",
    "df.shape"
   ]
  },
  {
   "cell_type": "markdown",
   "metadata": {},
   "source": [
    "## 1. 신용카드 한도 차이\n",
    "* 귀무가설 : 이탈고객과 기존고객 사이의 신용한도는 차이가 없다.\n",
    "-> 이탈고객의 신용한도 평균과 기존고객 신용한도 평균의 차이는 0이다.\n",
    "-> Existing_mean - Attrited_mean = 0\n",
    "* 대립가설 : 이탈고객과 기존고객 사이의 신용한도는 차이가 있다.\n",
    "-> 이탈고객의 신용한도 평균과 기존고객 신용한도 평균의 차이는 0이 아니다.\n",
    "-> Existing_mean - Attrited_mean != 0\n",
    "\n",
    "\n",
    "등분산검정(F-test)\n",
    "귀무가설 : 두 집단의 분산은 차이 없다.\n",
    "대립가설 : 두 집단의 분산은 차이가 있다.\n",
    "-> pvalue값이 0.05보다 작으면 귀무가설을 기각하니, 이분산/ 크면 귀무가설 기각을 못하니까 등분산.\n",
    "\n",
    "\n"
   ]
  },
  {
   "cell_type": "code",
   "execution_count": 52,
   "metadata": {},
   "outputs": [
    {
     "name": "stdout",
     "output_type": "stream",
     "text": [
      "LeveneResult(F) : 1.553 \n",
      "p-value : 0.213\n",
      "-> 신용카드 한도 평균의 분산은 이분산이다.\n",
      "t statistic : 2.403 \n",
      "p-value : 0.016\n",
      "--> 이탈고객의 신용카드 한도 평균과 기존고객 신용카드 한도 평균의 차이는 0이 아니므로 귀무가설을 기각한다.\n"
     ]
    }
   ],
   "source": [
    "from scipy import stats\n",
    "Credit_Limit = df.Credit_Limit \n",
    "\n",
    "#독립표본 t-검정\n",
    "#변수생성\n",
    "Existing = df[df.Attrition_Flag == \"Existing Customer\"] #Existing Customer\n",
    "Attrited = df[df.Attrition_Flag == \"Attrited Customer\"] #Attrited Customer\n",
    "\n",
    "#Levene의 등분산 검정 \n",
    "lresult = stats.levene(Existing.Credit_Limit, Attrited.Credit_Limit)\n",
    "print('LeveneResult(F) : %.3f \\np-value : %.3f' % (lresult))\n",
    "if lresult.pvalue >= 0.05:\n",
    "    bool_ = True\n",
    "    print(\"-> 신용카드 한도 평균의 분산은 이분산이다.\")\n",
    "else:\n",
    "    bool_ = False\n",
    "    print('-> 신용카드 한도 평균의 분산은 등분산이다.')\n",
    "\n",
    "result = stats.ttest_ind(Existing.Credit_Limit, Attrited.Credit_Limit, equal_var=bool_) \n",
    "print('t statistic : %.3f \\np-value : %.3f' % (result))\n",
    "if result.pvalue >= 0.05:\n",
    "    print(\"--> 이탈고객의 신용카드 한도 평균과 기존고객 신용카드 한도 평균의 차이는 0이므로 귀무가설을 채택한다.\")\n",
    "else:\n",
    "    print('--> 이탈고객의 신용카드 한도 평균과 기존고객 신용카드 한도 평균의 차이는 0이 아니므로 귀무가설을 기각한다.')"
   ]
  },
  {
   "cell_type": "markdown",
   "metadata": {},
   "source": [
    "## 2. 신용카드 총 회전잔액 차이 \n",
    "* 귀무가설 : 이탈고객과 기존고객 사이의 신용카드 총 회전잔액 평균의 차이가 없다.\n",
    "-> 이탈고객의 신용한도 평균과 기존고객 신용카드 총 회전잔액 평균의 차이는 0이다.\n",
    "-> Existing_mean - Attrited_mean = 0\n",
    "* 대립가설 : 이탈고객과 기존고객 사이의 신용카드 총 회전잔액 평균의 차이가 있다.\n",
    "-> 이탈고객의 신용한도 평균과 기존고객 신용카드 총 회전잔액 평균의 차이는 0이 아니다.\n",
    "-> Existing_mean - Attrited_mean != 0"
   ]
  },
  {
   "cell_type": "code",
   "execution_count": 50,
   "metadata": {},
   "outputs": [
    {
     "name": "stdout",
     "output_type": "stream",
     "text": [
      "LeveneResult(F) : 15.378 \n",
      "p-value : 0.000\n",
      "-> 신용카드 총 회전잔액 평균의 분산은 등분산이다.\n",
      "t statistic : 24.047 \n",
      "p-value : 0.000\n",
      "--> 이탈고객의 신용카드 총 회전잔액 평균과 기존고객 신용카드 총 회전잔액 평균의 차이는 0이 아니므로 귀무가설을 기각한다.\n"
     ]
    }
   ],
   "source": [
    "from scipy import stats\n",
    "Total_Revolving_Bal = df.Total_Revolving_Bal\n",
    "\n",
    "#독립표본 t-검정\n",
    "#변수생성\n",
    "Existing = df[df.Attrition_Flag == \"Existing Customer\"] #Existing Customer\n",
    "Attrited = df[df.Attrition_Flag == \"Attrited Customer\"] #Attrited Customer\n",
    "\n",
    "#Levene의 등분산 검정 \n",
    "lresult = stats.levene(Existing.Total_Revolving_Bal, Attrited.Total_Revolving_Bal)\n",
    "print('LeveneResult(F) : %.3f \\np-value : %.3f' % (lresult))\n",
    "if lresult.pvalue >= 0.05:\n",
    "    bool_ = True\n",
    "    print(\"-> 신용카드 총 회전잔액 평균의 분산은 이분산이다.\")\n",
    "else:\n",
    "    bool_ = False\n",
    "    print('-> 신용카드 총 회전잔액 평균의 분산은 등분산이다.')\n",
    "\n",
    "result = stats.ttest_ind(Existing.Total_Revolving_Bal, Attrited.Total_Revolving_Bal, equal_var=bool_) \n",
    "print('t statistic : %.3f \\np-value : %.3f' % (result))\n",
    "if result.pvalue >= 0.05:\n",
    "    print(\"--> 이탈고객의 신용카드 총 회전잔액 평균과 기존고객 신용카드 총 회전잔액 평균의 차이는 0이므로 귀무가설을 채택한다.\")\n",
    "else:\n",
    "    print('--> 이탈고객의 신용카드 총 회전잔액 평균과 기존고객 신용카드 총 회전잔액 평균의 차이는 0이 아니므로 귀무가설을 기각한다.')"
   ]
  },
  {
   "cell_type": "markdown",
   "metadata": {},
   "source": [
    "## 3. 신용 한도 구매 가능 차이 \n",
    "* 귀무가설 : 이탈고객과 기존고객 사이의 신용 한도 구매 가능 평균의 차이가 없다.\n",
    "-> 이탈고객의 신용 한도 구매 가능 평균과 기존고객 신용 한도 구매 가능 평균의 차이는 0이다.\n",
    "-> Existing_mean - Attrited_mean = 0\n",
    "* 대립가설 : 이탈고객과 기존고객 사이의 신용 한도 구매 가능 평균의 차이가 있다.\n",
    "-> 이탈고객의 신용 한도 구매 가능 평균과 기존고객 신용 한도 구매 가능 평균의 차이는 0이 아니다.\n",
    "-> Existing_mean - Attrited_mean != 0"
   ]
  },
  {
   "cell_type": "code",
   "execution_count": 54,
   "metadata": {},
   "outputs": [
    {
     "name": "stdout",
     "output_type": "stream",
     "text": [
      "LeveneResult(F) : 1.535 \n",
      "p-value : 0.215\n",
      "-> 신용 한도 구매 가능 평균의 분산은 이분산이다.\n",
      "t statistic : 0.029 \n",
      "p-value : 0.977\n",
      "--> 이탈고객의 신용 한도 구매 가능 평균과 기존고객 신용 한도 구매 가능 평균의 차이는 0이므로 귀무가설을 채택한다.\n"
     ]
    }
   ],
   "source": [
    "from scipy import stats\n",
    "Avg_Open_To_Buy  = df.Avg_Open_To_Buy \n",
    "\n",
    "#독립표본 t-검정\n",
    "#변수생성\n",
    "Existing = df[df.Attrition_Flag == \"Existing Customer\"] #Existing Customer\n",
    "Attrited = df[df.Attrition_Flag == \"Attrited Customer\"] #Attrited Customer\n",
    "\n",
    "#Levene의 등분산 검정 \n",
    "lresult = stats.levene(Existing.Avg_Open_To_Buy , Attrited.Avg_Open_To_Buy )\n",
    "print('LeveneResult(F) : %.3f \\np-value : %.3f' % (lresult))\n",
    "if lresult.pvalue >= 0.05:\n",
    "    bool_ = True\n",
    "    print(\"-> 신용 한도 구매 가능 평균의 분산은 이분산이다.\")\n",
    "else:\n",
    "    bool_ = False\n",
    "    print('-> 신용 한도 구매 가능 평균의 분산은 등분산이다.')\n",
    "\n",
    "result = stats.ttest_ind(Existing.Avg_Open_To_Buy , Attrited.Avg_Open_To_Buy , equal_var=bool_) \n",
    "print('t statistic : %.3f \\np-value : %.3f' % (result))\n",
    "if result.pvalue >= 0.05:\n",
    "    print(\"--> 이탈고객의 신용 한도 구매 가능 평균과 기존고객 신용 한도 구매 가능 평균의 차이는 0이므로 귀무가설을 채택한다.\")\n",
    "else:\n",
    "    print('--> 이탈고객의 신용 한도 구매 가능 평균과 기존고객 신용 한도 구매 가능 평균의 차이는 0이 아니므로 귀무가설을 기각한다.')"
   ]
  },
  {
   "cell_type": "markdown",
   "metadata": {},
   "source": [
    "## 4. 거래 금액 변경  \n",
    "* 귀무가설 : 이탈고객과 기존고객 사이의 거래 금액 변경 평균의 차이가 없다.\n",
    "-> 이탈고객의 거래 금액 변경 평균과 기존고객 거래 금액 변경 평균의 차이는 0이다.\n",
    "-> Existing_mean - Attrited_mean = 0\n",
    "* 대립가설 : 이탈고객과 기존고객 사이의 거래 금액 변경 평균의 차이가 있다.\n",
    "-> 이탈고객의 거래 금액 변경 평균과 기존고객 거래 금액 변경 평균의 차이는 0이 아니다.\n",
    "-> Existing_mean - Attrited_mean != 0"
   ]
  },
  {
   "cell_type": "code",
   "execution_count": 55,
   "metadata": {},
   "outputs": [
    {
     "name": "stdout",
     "output_type": "stream",
     "text": [
      "LeveneResult(F) : 35.681 \n",
      "p-value : 0.000\n",
      "-> 거래 금액 변경 차이 평균의 분산은 등분산이다.\n",
      "t statistic : 13.423 \n",
      "p-value : 0.000\n",
      "--> 이탈고객의 거래 금액 변경 차이 평균과 기존고객 거래 금액 변경 차이 평균의 차이는 0이 아니므로 귀무가설을 기각한다.\n"
     ]
    }
   ],
   "source": [
    "from scipy import stats\n",
    "Total_Amt_Chng_Q4_Q1   = df.Total_Amt_Chng_Q4_Q1  \n",
    "\n",
    "#독립표본 t-검정\n",
    "#변수생성\n",
    "Existing = df[df.Attrition_Flag == \"Existing Customer\"] #Existing Customer\n",
    "Attrited = df[df.Attrition_Flag == \"Attrited Customer\"] #Attrited Customer\n",
    "\n",
    "#Levene의 등분산 검정 \n",
    "lresult = stats.levene(Existing.Total_Amt_Chng_Q4_Q1  , Attrited.Total_Amt_Chng_Q4_Q1  )\n",
    "print('LeveneResult(F) : %.3f \\np-value : %.3f' % (lresult))\n",
    "if lresult.pvalue >= 0.05:\n",
    "    bool_ = True\n",
    "    print(\"-> 거래 금액 변경 차이 평균의 분산은 이분산이다.\")\n",
    "else:\n",
    "    bool_ = False\n",
    "    print('-> 거래 금액 변경 차이 평균의 분산은 등분산이다.')\n",
    "\n",
    "result = stats.ttest_ind(Existing.Total_Amt_Chng_Q4_Q1  , Attrited.Total_Amt_Chng_Q4_Q1  , equal_var=bool_) \n",
    "print('t statistic : %.3f \\np-value : %.3f' % (result))\n",
    "if result.pvalue >= 0.05:\n",
    "    print(\"--> 이탈고객의 거래 금액 변경 차이 평균과 기존고객 거래 금액 변경 차이 평균의 차이는 0이므로 귀무가설을 채택한다.\")\n",
    "else:\n",
    "    print('--> 이탈고객의 거래 금액 변경 차이 평균과 기존고객 거래 금액 변경 차이 평균의 차이는 0이 아니므로 귀무가설을 기각한다.')"
   ]
  },
  {
   "cell_type": "markdown",
   "metadata": {},
   "source": [
    "## 5. 총 거래 금액\n",
    "* 귀무가설 : 이탈고객과 기존고객 사이의 총 거래 금액 평균의 차이가 없다.\n",
    "-> 이탈고객의 총 거래 금액 평균과 기존고객 총 거래 금액 평균의 차이는 0이다.\n",
    "-> Existing_mean - Attrited_mean = 0\n",
    "* 대립가설 : 이탈고객과 기존고객 사이의 총 거래 금액 평균의 차이가 있다.\n",
    "-> 이탈고객의 총 거래 금액 평균과 기존고객 총 거래 금액 평균의 차이는 0이 아니다.\n",
    "-> Existing_mean - Attrited_mean != 0"
   ]
  },
  {
   "cell_type": "code",
   "execution_count": 56,
   "metadata": {},
   "outputs": [
    {
     "name": "stdout",
     "output_type": "stream",
     "text": [
      "LeveneResult(F) : 99.405 \n",
      "p-value : 0.000\n",
      "-> 총 거래 금액 평균의 분산은 등분산이다.\n",
      "t statistic : 22.686 \n",
      "p-value : 0.000\n",
      "--> 이탈고객의 총 거래 금액 평균과 기존고객 총 거래 금액 평균의 차이는 0이 아니므로 귀무가설을 기각한다.\n"
     ]
    }
   ],
   "source": [
    "from scipy import stats\n",
    "Total_Trans_Amt    = df.Total_Trans_Amt   \n",
    "\n",
    "#독립표본 t-검정\n",
    "#변수생성\n",
    "Existing = df[df.Attrition_Flag == \"Existing Customer\"] #Existing Customer\n",
    "Attrited = df[df.Attrition_Flag == \"Attrited Customer\"] #Attrited Customer\n",
    "\n",
    "#Levene의 등분산 검정 \n",
    "lresult = stats.levene(Existing.Total_Trans_Amt, Attrited.Total_Trans_Amt)\n",
    "print('LeveneResult(F) : %.3f \\np-value : %.3f' % (lresult))\n",
    "if lresult.pvalue >= 0.05:\n",
    "    bool_ = True\n",
    "    print(\"-> 총 거래 금액 평균의 분산은 이분산이다.\")\n",
    "else:\n",
    "    bool_ = False\n",
    "    print('-> 총 거래 금액 평균의 분산은 등분산이다.')\n",
    "\n",
    "result = stats.ttest_ind(Existing.Total_Trans_Amt, Attrited.Total_Trans_Amt, equal_var=bool_) \n",
    "print('t statistic : %.3f \\np-value : %.3f' % (result))\n",
    "if result.pvalue >= 0.05:\n",
    "    print(\"--> 이탈고객의 총 거래 금액 평균과 기존고객 총 거래 금액 평균의 차이는 0이므로 귀무가설을 채택한다.\")\n",
    "else:\n",
    "    print('--> 이탈고객의 총 거래 금액 평균과 기존고객 총 거래 금액 평균의 차이는 0이 아니므로 귀무가설을 기각한다.')"
   ]
  },
  {
   "cell_type": "markdown",
   "metadata": {},
   "source": [
    "## 6. 총 거래 건수\n",
    "* 귀무가설 : 이탈고객과 기존고객 사이의 총 거래 건수 평균의 차이가 없다.\n",
    "-> 이탈고객의 총 거래 금액 평균과 기존고객 총 거래 건수 평균의 차이는 0이다.\n",
    "-> Existing_mean - Attrited_mean = 0\n",
    "* 대립가설 : 이탈고객과 기존고객 사이의 총 거래 건수 평균의 차이가 있다.\n",
    "-> 이탈고객의 총 거래 금액 평균과 기존고객 총 거래 건수 평균의 차이는 0이 아니다.\n",
    "-> Existing_mean - Attrited_mean != 0"
   ]
  },
  {
   "cell_type": "code",
   "execution_count": 57,
   "metadata": {
    "scrolled": true
   },
   "outputs": [
    {
     "name": "stdout",
     "output_type": "stream",
     "text": [
      "LeveneResult(F) : 370.054 \n",
      "p-value : 0.000\n",
      "-> 총 거래 건수 평균의 분산은 등분산이다.\n",
      "t statistic : 54.142 \n",
      "p-value : 0.000\n",
      "--> 이탈고객의 총 거래 건수 평균과 기존고객 총 거래 건수 평균의 차이는 0이 아니므로 귀무가설을 기각한다.\n"
     ]
    }
   ],
   "source": [
    "from scipy import stats\n",
    "Total_Trans_Ct= df.Total_Trans_Ct    \n",
    "\n",
    "#독립표본 t-검정\n",
    "#변수생성\n",
    "Existing = df[df.Attrition_Flag == \"Existing Customer\"] #Existing Customer\n",
    "Attrited = df[df.Attrition_Flag == \"Attrited Customer\"] #Attrited Customer\n",
    "\n",
    "#Levene의 등분산 검정 \n",
    "lresult = stats.levene(Existing.Total_Trans_Ct, Attrited.Total_Trans_Ct)\n",
    "print('LeveneResult(F) : %.3f \\np-value : %.3f' % (lresult))\n",
    "if lresult.pvalue >= 0.05:\n",
    "    bool_ = True\n",
    "    print(\"-> 총 거래 건수 평균의 분산은 이분산이다.\")\n",
    "else:\n",
    "    bool_ = False\n",
    "    print('-> 총 거래 건수 평균의 분산은 등분산이다.')\n",
    "\n",
    "result = stats.ttest_ind(Existing.Total_Trans_Ct, Attrited.Total_Trans_Ct, equal_var=bool_) \n",
    "print('t statistic : %.3f \\np-value : %.3f' % (result))\n",
    "if result.pvalue >= 0.05:\n",
    "    print(\"--> 이탈고객의 총 거래 건수 평균과 기존고객 총 거래 건수 평균의 차이는 0이므로 귀무가설을 채택한다.\")\n",
    "else:\n",
    "    print('--> 이탈고객의 총 거래 건수 평균과 기존고객 총 거래 건수 평균의 차이는 0이 아니므로 귀무가설을 기각한다.')"
   ]
  },
  {
   "cell_type": "markdown",
   "metadata": {},
   "source": [
    "## 7. 거래 수의 변화\n",
    "* 귀무가설 : 이탈고객과 기존고객 사이의 거래 수의 변화 평균의 차이가 없다.\n",
    "-> 이탈고객의 총 거래 수의 평균과 기존고객 거래 수의 변화 평균의 차이는 0이다.\n",
    "-> Existing_mean - Attrited_mean = 0\n",
    "* 대립가설 : 이탈고객과 기존고객 사이의 거래 수의 변화 평균의 차이가 있다.\n",
    "-> 이탈고객의 총 거래 금액 평균과 기존고객 거래 수의 변화 평균의 차이는 0이 아니다.\n",
    "-> Existing_mean - Attrited_mean != 0"
   ]
  },
  {
   "cell_type": "code",
   "execution_count": 58,
   "metadata": {},
   "outputs": [
    {
     "name": "stdout",
     "output_type": "stream",
     "text": [
      "LeveneResult(F) : 23.799 \n",
      "p-value : 0.000\n",
      "-> 거래 수의 변화 평균의 분산은 등분산이다.\n",
      "t statistic : 30.607 \n",
      "p-value : 0.000\n",
      "--> 이탈고객의 거래 수의 변화 평균과 기존고객 거래 수의 변화 평균의 차이는 0이 아니므로 귀무가설을 기각한다.\n"
     ]
    }
   ],
   "source": [
    "from scipy import stats\n",
    "Total_Ct_Chng_Q4_Q1= df.Total_Ct_Chng_Q4_Q1    \n",
    "\n",
    "#독립표본 t-검정\n",
    "#변수생성\n",
    "Existing = df[df.Attrition_Flag == \"Existing Customer\"] #Existing Customer\n",
    "Attrited = df[df.Attrition_Flag == \"Attrited Customer\"] #Attrited Customer\n",
    "\n",
    "#Levene의 등분산 검정 \n",
    "lresult = stats.levene(Existing.Total_Ct_Chng_Q4_Q1, Attrited.Total_Ct_Chng_Q4_Q1)\n",
    "print('LeveneResult(F) : %.3f \\np-value : %.3f' % (lresult))\n",
    "if lresult.pvalue >= 0.05:\n",
    "    bool_ = True\n",
    "    print(\"-> 거래 수의 변화 평균의 분산은 이분산이다.\")\n",
    "else:\n",
    "    bool_ = False\n",
    "    print('-> 거래 수의 변화 평균의 분산은 등분산이다.')\n",
    "\n",
    "result = stats.ttest_ind(Existing.Total_Ct_Chng_Q4_Q1, Attrited.Total_Ct_Chng_Q4_Q1, equal_var=bool_) \n",
    "print('t statistic : %.3f \\np-value : %.3f' % (result))\n",
    "if result.pvalue >= 0.05:\n",
    "    print(\"--> 이탈고객의 거래 수의 변화 평균과 기존고객 거래 수의 변화 평균의 차이는 0이므로 귀무가설을 채택한다.\")\n",
    "else:\n",
    "    print('--> 이탈고객의 거래 수의 변화 평균과 기존고객 거래 수의 변화 평균의 차이는 0이 아니므로 귀무가설을 기각한다.')"
   ]
  },
  {
   "cell_type": "markdown",
   "metadata": {},
   "source": [
    "## 8. 평균 카드 이용률\n",
    "* 귀무가설 : 이탈고객과 기존고객 사이의 평균 카드 이용률 평균의 차이가 없다.\n",
    "-> 이탈고객의 총 거래 금액 평균과 기존고객 평균 카드 이용률 평균의 차이는 0이다.\n",
    "-> Existing_mean - Attrited_mean = 0\n",
    "* 대립가설 : 이탈고객과 기존고객 사이의 평균 카드 이용률 평균의 차이가 있다.\n",
    "-> 이탈고객의 총 거래 금액 평균과 기존고객 평균 카드 이용률 평균의 차이는 0이 아니다.\n",
    "-> Existing_mean - Attrited_mean != 0"
   ]
  },
  {
   "cell_type": "code",
   "execution_count": 59,
   "metadata": {},
   "outputs": [
    {
     "name": "stdout",
     "output_type": "stream",
     "text": [
      "LeveneResult(F) : 181.496 \n",
      "p-value : 0.000\n",
      "-> 평균 카드 이용률 평균의 분산은 등분산이다.\n",
      "t statistic : 18.623 \n",
      "p-value : 0.000\n",
      "--> 이탈고객의 평균 카드 이용률 평균과 기존고객 평균 카드 이용률 평균의 차이는 0이 아니므로 귀무가설을 기각한다.\n"
     ]
    }
   ],
   "source": [
    "from scipy import stats\n",
    "Avg_Utilization_Ratio = df.Avg_Utilization_Ratio     \n",
    "\n",
    "#독립표본 t-검정\n",
    "#변수생성\n",
    "Existing = df[df.Attrition_Flag == \"Existing Customer\"] #Existing Customer\n",
    "Attrited = df[df.Attrition_Flag == \"Attrited Customer\"] #Attrited Customer\n",
    "\n",
    "#Levene의 등분산 검정 \n",
    "lresult = stats.levene(Existing.Avg_Utilization_Ratio , Attrited.Avg_Utilization_Ratio )\n",
    "print('LeveneResult(F) : %.3f \\np-value : %.3f' % (lresult))\n",
    "if lresult.pvalue >= 0.05:\n",
    "    bool_ = True\n",
    "    print(\"-> 평균 카드 이용률 평균의 분산은 이분산이다.\")\n",
    "else:\n",
    "    bool_ = False\n",
    "    print('-> 평균 카드 이용률 평균의 분산은 등분산이다.')\n",
    "\n",
    "result = stats.ttest_ind(Existing.Avg_Utilization_Ratio, Attrited.Avg_Utilization_Ratio , equal_var=bool_) \n",
    "print('t statistic : %.3f \\np-value : %.3f' % (result))\n",
    "if result.pvalue >= 0.05:\n",
    "    print(\"--> 이탈고객의 평균 카드 이용률 평균과 기존고객 평균 카드 이용률 평균의 차이는 0이므로 귀무가설을 채택한다.\")\n",
    "else:\n",
    "    print('--> 이탈고객의 평균 카드 이용률 평균과 기존고객 평균 카드 이용률 평균의 차이는 0이 아니므로 귀무가설을 기각한다.')"
   ]
  },
  {
   "cell_type": "markdown",
   "metadata": {},
   "source": [
    "## 9. 고객 나이\n",
    "* 귀무가설 : 이탈고객과 기존고객 사이의 고객 나이 평균의 차이가 없다.\n",
    "-> 이탈고객의 총 거래 금액 평균과 기존고객 고객 나이 평균의 차이는 0이다.\n",
    "-> Existing_mean - Attrited_mean = 0\n",
    "* 대립가설 : 이탈고객과 기존고객 사이의 고객 나이 평균의 차이가 있다.\n",
    "-> 이탈고객의 총 거래 금액 평균과 기존고객 고객 나이 평균의 차이는 0이 아니다.\n",
    "-> Existing_mean - Attrited_mean != 0"
   ]
  },
  {
   "cell_type": "code",
   "execution_count": 60,
   "metadata": {},
   "outputs": [
    {
     "name": "stdout",
     "output_type": "stream",
     "text": [
      "LeveneResult(F) : 5.643 \n",
      "p-value : 0.018\n",
      "-> 고객 나이 평균의 분산은 등분산이다.\n",
      "t statistic : -1.899 \n",
      "p-value : 0.058\n",
      "--> 이탈고객의 고객 나이 평균과 기존고객 고객 나이 평균의 차이는 0이므로 귀무가설을 채택한다.\n"
     ]
    }
   ],
   "source": [
    "from scipy import stats\n",
    "Customer_Age  = df.Customer_Age      \n",
    "\n",
    "#독립표본 t-검정\n",
    "#변수생성\n",
    "Existing = df[df.Attrition_Flag == \"Existing Customer\"] #Existing Customer\n",
    "Attrited = df[df.Attrition_Flag == \"Attrited Customer\"] #Attrited Customer\n",
    "\n",
    "#Levene의 등분산 검정 \n",
    "lresult = stats.levene(Existing.Customer_Age, Attrited.Customer_Age  )\n",
    "print('LeveneResult(F) : %.3f \\np-value : %.3f' % (lresult))\n",
    "if lresult.pvalue >= 0.05:\n",
    "    bool_ = True\n",
    "    print(\"-> 고객 나이 평균의 분산은 이분산이다.\")\n",
    "else:\n",
    "    bool_ = False\n",
    "    print('-> 고객 나이 평균의 분산은 등분산이다.')\n",
    "\n",
    "result = stats.ttest_ind(Existing.Customer_Age, Attrited.Customer_Age, equal_var=bool_) \n",
    "print('t statistic : %.3f \\np-value : %.3f' % (result))\n",
    "if result.pvalue >= 0.05:\n",
    "    print(\"--> 이탈고객의 고객 나이 평균과 기존고객 고객 나이 평균의 차이는 0이므로 귀무가설을 채택한다.\")\n",
    "else:\n",
    "    print('--> 이탈고객의 고객 나이 평균과 기존고객 고객 나이 평균의 차이는 0이 아니므로 귀무가설을 기각한다.')"
   ]
  },
  {
   "cell_type": "code",
   "execution_count": null,
   "metadata": {},
   "outputs": [],
   "source": []
  }
 ],
 "metadata": {
  "kernelspec": {
   "display_name": "Python 3",
   "language": "python",
   "name": "python3"
  },
  "language_info": {
   "codemirror_mode": {
    "name": "ipython",
    "version": 3
   },
   "file_extension": ".py",
   "mimetype": "text/x-python",
   "name": "python",
   "nbconvert_exporter": "python",
   "pygments_lexer": "ipython3",
   "version": "3.8.5"
  }
 },
 "nbformat": 4,
 "nbformat_minor": 4
}
